{
 "cells": [
  {
   "cell_type": "code",
   "execution_count": 1,
   "id": "f2eb9a0b",
   "metadata": {},
   "outputs": [
    {
     "name": "stdout",
     "output_type": "stream",
     "text": [
      " * Serving Flask app '__main__' (lazy loading)\n",
      " * Environment: production\n",
      "\u001b[31m   WARNING: This is a development server. Do not use it in a production deployment.\u001b[0m\n",
      "\u001b[2m   Use a production WSGI server instead.\u001b[0m\n",
      " * Debug mode: off\n"
     ]
    },
    {
     "name": "stderr",
     "output_type": "stream",
     "text": [
      " * Running on http://127.0.0.1:5000/ (Press CTRL+C to quit)\n",
      "127.0.0.1 - - [14/Aug/2021 16:22:13] \"GET / HTTP/1.1\" 200 -\n",
      "127.0.0.1 - - [14/Aug/2021 16:22:13] \"GET /static/assets/js/main.js HTTP/1.1\" 304 -\n",
      "127.0.0.1 - - [14/Aug/2021 16:22:13] \"GET /static/assets/js/jquery.scrollex.min.js HTTP/1.1\" 304 -\n",
      "127.0.0.1 - - [14/Aug/2021 16:22:13] \"GET /static/assets/js/jquery.scrolly.min.js HTTP/1.1\" 304 -\n",
      "127.0.0.1 - - [14/Aug/2021 16:22:13] \"GET /static/assets/js/util.js HTTP/1.1\" 304 -\n",
      "127.0.0.1 - - [14/Aug/2021 16:22:13] \"GET /static/assets/js/browser.min.js HTTP/1.1\" 304 -\n",
      "127.0.0.1 - - [14/Aug/2021 16:22:13] \"GET /static/assets/js/breakpoints.min.js HTTP/1.1\" 304 -\n",
      "127.0.0.1 - - [14/Aug/2021 16:22:13] \"GET /static/assets/css/main.css HTTP/1.1\" 304 -\n",
      "127.0.0.1 - - [14/Aug/2021 16:22:13] \"GET /static/assets/js/jquery.min.js HTTP/1.1\" 304 -\n",
      "127.0.0.1 - - [14/Aug/2021 16:22:13] \"GET /static/assets/css/fontawesome-all.min.css HTTP/1.1\" 304 -\n",
      "127.0.0.1 - - [14/Aug/2021 16:22:13] \"GET /static/assets/webfonts/fa-brands-400.woff2 HTTP/1.1\" 304 -\n",
      "127.0.0.1 - - [14/Aug/2021 16:22:13] \"GET /apple-touch-icon-precomposed.png HTTP/1.1\" 404 -\n",
      "127.0.0.1 - - [14/Aug/2021 16:22:13] \"GET /apple-touch-icon.png HTTP/1.1\" 404 -\n",
      "127.0.0.1 - - [14/Aug/2021 16:22:25] \"POST /main HTTP/1.1\" 200 -\n",
      "127.0.0.1 - - [14/Aug/2021 16:22:25] \"GET /static/assets/images/siren.png HTTP/1.1\" 304 -\n",
      "127.0.0.1 - - [14/Aug/2021 16:22:25] \"GET /static/assets/css/main.css HTTP/1.1\" 304 -\n",
      "127.0.0.1 - - [14/Aug/2021 16:22:25] \"GET /static/assets/js/jquery.scrollex.min.js HTTP/1.1\" 304 -\n",
      "127.0.0.1 - - [14/Aug/2021 16:22:25] \"GET /static/assets/js/jquery.min.js HTTP/1.1\" 304 -\n",
      "127.0.0.1 - - [14/Aug/2021 16:22:25] \"GET /static/assets/images/monitor.png HTTP/1.1\" 304 -\n",
      "127.0.0.1 - - [14/Aug/2021 16:22:25] \"GET /static/assets/js/jquery.scrolly.min.js HTTP/1.1\" 304 -\n",
      "127.0.0.1 - - [14/Aug/2021 16:22:25] \"GET /static/assets/js/browser.min.js HTTP/1.1\" 304 -\n",
      "127.0.0.1 - - [14/Aug/2021 16:22:25] \"GET /static/assets/js/util.js HTTP/1.1\" 304 -\n",
      "127.0.0.1 - - [14/Aug/2021 16:22:25] \"GET /static/assets/js/breakpoints.min.js HTTP/1.1\" 304 -\n",
      "127.0.0.1 - - [14/Aug/2021 16:22:25] \"GET /static/assets/js/main.js HTTP/1.1\" 304 -\n",
      "127.0.0.1 - - [14/Aug/2021 16:22:25] \"GET /static/assets/css/fontawesome-all.min.css HTTP/1.1\" 304 -\n",
      "127.0.0.1 - - [14/Aug/2021 16:22:28] \"GET /video HTTP/1.1\" 200 -\n",
      "127.0.0.1 - - [14/Aug/2021 16:22:28] \"GET /static/assets/webfonts/fa-solid-900.woff2 HTTP/1.1\" 304 -\n",
      "127.0.0.1 - - [14/Aug/2021 16:22:28] \"GET /static/assets/css/main.css HTTP/1.1\" 304 -\n",
      "127.0.0.1 - - [14/Aug/2021 16:22:28] \"GET /static/assets/js/util.js HTTP/1.1\" 304 -\n",
      "127.0.0.1 - - [14/Aug/2021 16:22:28] \"GET /static/assets/js/jquery.scrollex.min.js HTTP/1.1\" 304 -\n",
      "127.0.0.1 - - [14/Aug/2021 16:22:28] \"GET /static/assets/js/jquery.min.js HTTP/1.1\" 304 -\n",
      "127.0.0.1 - - [14/Aug/2021 16:22:28] \"GET /static/assets/js/jquery.scrolly.min.js HTTP/1.1\" 304 -\n",
      "127.0.0.1 - - [14/Aug/2021 16:22:28] \"GET /static/assets/js/breakpoints.min.js HTTP/1.1\" 304 -\n",
      "127.0.0.1 - - [14/Aug/2021 16:22:28] \"GET /static/assets/js/browser.min.js HTTP/1.1\" 304 -\n",
      "127.0.0.1 - - [14/Aug/2021 16:22:28] \"GET /static/assets/js/main.js HTTP/1.1\" 304 -\n",
      "127.0.0.1 - - [14/Aug/2021 16:22:28] \"GET /static/assets/css/fontawesome-all.min.css HTTP/1.1\" 304 -\n",
      "127.0.0.1 - - [14/Aug/2021 16:22:33] \"GET /list HTTP/1.1\" 200 -\n",
      "127.0.0.1 - - [14/Aug/2021 16:22:33] \"GET /static/assets/css/main.css HTTP/1.1\" 304 -\n",
      "127.0.0.1 - - [14/Aug/2021 16:22:33] \"GET /static/assets/js/breakpoints.min.js HTTP/1.1\" 304 -\n",
      "127.0.0.1 - - [14/Aug/2021 16:22:33] \"GET /static/assets/js/jquery.min.js HTTP/1.1\" 304 -\n",
      "127.0.0.1 - - [14/Aug/2021 16:22:33] \"GET /static/assets/js/browser.min.js HTTP/1.1\" 304 -\n",
      "127.0.0.1 - - [14/Aug/2021 16:22:33] \"GET /static/assets/js/jquery.scrolly.min.js HTTP/1.1\" 304 -\n",
      "127.0.0.1 - - [14/Aug/2021 16:22:33] \"GET /static/assets/js/jquery.scrollex.min.js HTTP/1.1\" 304 -\n",
      "127.0.0.1 - - [14/Aug/2021 16:22:33] \"GET /static/assets/js/util.js HTTP/1.1\" 304 -\n",
      "127.0.0.1 - - [14/Aug/2021 16:22:33] \"GET /static/assets/js/main.js HTTP/1.1\" 304 -\n",
      "127.0.0.1 - - [14/Aug/2021 16:22:33] \"GET /static/assets/css/fontawesome-all.min.css HTTP/1.1\" 304 -\n"
     ]
    }
   ],
   "source": [
    "from flask import Flask, render_template, request, redirect\n",
    "app = Flask(__name__)\n",
    "@app.route('/index')\n",
    "@app.route('/')\n",
    "def index():\n",
    "    return render_template('index.html')\n",
    "\n",
    "\n",
    "@app.route('/register')\n",
    "def register():\n",
    "    return render_template('m.html')\n",
    "\n",
    "\n",
    "@app.route('/main',methods=['GET','POST'])\n",
    "def main():\n",
    "    email = request.form['email'] \n",
    "    password = request.form['password']\n",
    "    if email == 'adsf':\n",
    "        if password == '1234':\n",
    "            return render_template('main.html')\n",
    "        else:\n",
    "            return \"비밀번호가 틀렸습니다.\"\n",
    "    else:\n",
    "        return \"아이디가 없습니다.\"\n",
    "    \n",
    "    # alert 창으로 바꾸고\n",
    "@app.route('/video')\n",
    "def video():\n",
    "    return render_template('video.html')\n",
    "\n",
    "@app.route('/list')\n",
    "def list():\n",
    "    # db에서 관련정보 가져오는 코드 (flask alchemy 사용하면 쉽다.)\n",
    "    return render_template('list.html')# 인자로 db 정보를 보내서 받기\n",
    "\n",
    "\n",
    "if __name__ == '__main__':\n",
    "    app.run()"
   ]
  },
  {
   "cell_type": "code",
   "execution_count": 1,
   "id": "a7824526",
   "metadata": {},
   "outputs": [
    {
     "name": "stdout",
     "output_type": "stream",
     "text": [
      "Collecting flask-sqlalchemy\n",
      "  Downloading Flask_SQLAlchemy-2.5.1-py2.py3-none-any.whl (17 kB)\n",
      "Requirement already satisfied: SQLAlchemy>=0.8.0 in /Library/Frameworks/Python.framework/Versions/3.9/lib/python3.9/site-packages (from flask-sqlalchemy) (1.4.20)\n",
      "Requirement already satisfied: Flask>=0.10 in /Library/Frameworks/Python.framework/Versions/3.9/lib/python3.9/site-packages (from flask-sqlalchemy) (2.0.1)\n",
      "Requirement already satisfied: click>=7.1.2 in /Library/Frameworks/Python.framework/Versions/3.9/lib/python3.9/site-packages (from Flask>=0.10->flask-sqlalchemy) (8.0.1)\n",
      "Requirement already satisfied: Jinja2>=3.0 in /Library/Frameworks/Python.framework/Versions/3.9/lib/python3.9/site-packages (from Flask>=0.10->flask-sqlalchemy) (3.0.1)\n",
      "Requirement already satisfied: Werkzeug>=2.0 in /Library/Frameworks/Python.framework/Versions/3.9/lib/python3.9/site-packages (from Flask>=0.10->flask-sqlalchemy) (2.0.1)\n",
      "Requirement already satisfied: itsdangerous>=2.0 in /Library/Frameworks/Python.framework/Versions/3.9/lib/python3.9/site-packages (from Flask>=0.10->flask-sqlalchemy) (2.0.1)\n",
      "Requirement already satisfied: MarkupSafe>=2.0 in /Library/Frameworks/Python.framework/Versions/3.9/lib/python3.9/site-packages (from Jinja2>=3.0->Flask>=0.10->flask-sqlalchemy) (2.0.1)\n",
      "Requirement already satisfied: greenlet!=0.4.17 in /Library/Frameworks/Python.framework/Versions/3.9/lib/python3.9/site-packages (from SQLAlchemy>=0.8.0->flask-sqlalchemy) (1.1.0)\n",
      "Installing collected packages: flask-sqlalchemy\n",
      "Successfully installed flask-sqlalchemy-2.5.1\n",
      "\u001b[33mWARNING: You are using pip version 21.2.2; however, version 21.2.3 is available.\n",
      "You should consider upgrading via the '/Library/Frameworks/Python.framework/Versions/3.9/bin/python3.9 -m pip install --upgrade pip' command.\u001b[0m\n",
      "Note: you may need to restart the kernel to use updated packages.\n"
     ]
    }
   ],
   "source": [
    "pip install flask-sqlalchemy"
   ]
  },
  {
   "cell_type": "code",
   "execution_count": 3,
   "id": "8e71319d",
   "metadata": {},
   "outputs": [],
   "source": [
    "from flask_sqlalchemy import SQLAlchemy"
   ]
  },
  {
   "cell_type": "code",
   "execution_count": 4,
   "id": "d2ed1e2f",
   "metadata": {},
   "outputs": [],
   "source": [
    "from werkzeug.security import generate_password_hash, check_password_hash"
   ]
  },
  {
   "cell_type": "code",
   "execution_count": null,
   "id": "990acc45",
   "metadata": {},
   "outputs": [],
   "source": [
    "app = Flask(__name__)\n",
    " \n",
    "app.config['SECRET_KEY'] = 'this is secret'\n",
    "app.config['SQLALCHEMY_DATABASE_URI'] = 'sqlite:///site.db' ## 수정\n",
    "app.config['SQLALCHEMY_TRACK_MODIFICATIONS'] = False\n",
    " \n",
    "db = SQLAlchemy(app)\n",
    "# falsk alchemy로 DB 테이블 만들기\n",
    "\n",
    "class User(db.Model):\n",
    "    __table_name__ = 'user'\n",
    " \n",
    "    user_id = db.Column(db.Integer, primary_key=True, nullable=False)\n",
    "    user_pw = db.Column(db.String(100), unique=True, nullable=False)\n",
    "    user_email = db.Column(db.String(120), unique=True, nullable=False)\n",
    "    office_num = db.Column(db.Integer,unique=True, nullable=False)\n",
    "    locate = db.Column(db.String(200), nullable=False)\n",
    "    dept = db.Column(db.String(120), nullable=False)\n",
    "    name = db.Column(db.String(100), nullable=False)\n",
    "    ph = db.Column(db.Integer, nullable=False)\n",
    " \n",
    "  def __init__(self, user_id, user_email, password, **kwargs):\n",
    "    self.user_id = user_id\n",
    "    self.user_email = user_email\n",
    " \n",
    "    self.set_password(password)\n",
    " \n",
    "  def __repr__(self):\n",
    "        return f\"<User('{self.id}', '{self.username}', '{self.email}')>\"\n",
    " \n",
    "  def set_password(self, password):\n",
    "    self.password = generate_password_hash(password)\n",
    " \n",
    "  def check_password(self, password):\n",
    "    return check_password_hash(self.password, password)"
   ]
  }
 ],
 "metadata": {
  "kernelspec": {
   "display_name": "Python 3",
   "language": "python",
   "name": "python3"
  },
  "language_info": {
   "codemirror_mode": {
    "name": "ipython",
    "version": 3
   },
   "file_extension": ".py",
   "mimetype": "text/x-python",
   "name": "python",
   "nbconvert_exporter": "python",
   "pygments_lexer": "ipython3",
   "version": "3.9.5"
  }
 },
 "nbformat": 4,
 "nbformat_minor": 5
}

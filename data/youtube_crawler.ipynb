{
 "cells": [
  {
   "cell_type": "code",
   "execution_count": 2,
   "id": "anticipated-cutting",
   "metadata": {},
   "outputs": [
    {
     "name": "stdout",
     "output_type": "stream",
     "text": [
      "Collecting youtube_dl\n",
      "  Downloading youtube_dl-2021.6.6-py2.py3-none-any.whl (1.9 MB)\n",
      "Installing collected packages: youtube-dl\n",
      "Successfully installed youtube-dl-2021.6.6\n",
      "Note: you may need to restart the kernel to use updated packages.\n"
     ]
    }
   ],
   "source": [
    "pip install youtube_dl"
   ]
  },
  {
   "cell_type": "code",
   "execution_count": 16,
   "id": "designing-cyprus",
   "metadata": {},
   "outputs": [],
   "source": [
    "import os\n",
    "import youtube_dl"
   ]
  },
  {
   "cell_type": "code",
   "execution_count": 21,
   "id": "enormous-strength",
   "metadata": {},
   "outputs": [],
   "source": [
    "# 영상을 저장하고 싶은 곳을 path에 넣어 실행하면 됩니다.\n",
    "path = 'C:/Users/Seogki/GoogleDrive/데이터청년캠퍼스_고려대과정/youtube_data'"
   ]
  },
  {
   "cell_type": "code",
   "execution_count": 26,
   "id": "mechanical-bennett",
   "metadata": {},
   "outputs": [],
   "source": [
    "# 엑셀에서 영상링크 부분만 가져와서 넣으면 됩니다.\n",
    "links = '''https://www.youtube.com/watch?v=rC_Zj6rggoU\n",
    "https://www.youtube.com/watch?v=ZIQcTxaTo_0\n",
    "https://www.youtube.com/watch?v=vAAQJ67U9Pg\n",
    "https://www.youtube.com/watch?v=i2HpWo6394E\n",
    "https://www.youtube.com/watch?v=qS24PxikzAs\n",
    "https://www.youtube.com/watch?v=FFdUSm9d-DE\n",
    "https://www.youtube.com/watch?v=jL2PP9_0ft4\n",
    "https://www.youtube.com/watch?v=QYjm7xfG_iQ\n",
    "https://www.youtube.com/watch?v=Y0MP5UazjvY\n",
    "https://www.youtube.com/watch?v=fd9WQylqzGU\n",
    "https://www.youtube.com/watch?v=oj-3C-MSBMw\n",
    "https://www.youtube.com/watch?v=afcL625llEg\n",
    "https://www.youtube.com/watch?v=B6RpMS5iScw\n",
    "https://www.youtube.com/watch?v=lGucuUSnB7k\n",
    "https://www.youtube.com/watch?v=OO8JnPiLjzI\n",
    "https://www.youtube.com/watch?v=7DUv3kbzk6I\n",
    "https://www.youtube.com/watch?v=SOQaX9fsbcg\n",
    "https://www.youtube.com/watch?v=F7gYXKNoqXQ\n",
    "https://www.youtube.com/watch?v=ounF8GjzNts\n",
    "https://www.youtube.com/watch?v=QJa1YxkL8DQ'''"
   ]
  },
  {
   "cell_type": "code",
   "execution_count": 27,
   "id": "occupied-retention",
   "metadata": {},
   "outputs": [],
   "source": [
    "link_list = links.split()"
   ]
  },
  {
   "cell_type": "code",
   "execution_count": null,
   "id": "adaptive-constraint",
   "metadata": {},
   "outputs": [],
   "source": [
    "output_dir = os.path.join(path, '%(title)s.%(ext)s')"
   ]
  },
  {
   "cell_type": "code",
   "execution_count": null,
   "id": "stretch-chemistry",
   "metadata": {
    "scrolled": true
   },
   "outputs": [
    {
     "name": "stdout",
     "output_type": "stream",
     "text": [
      "[youtube] rC_Zj6rggoU: Downloading webpage\n",
      "[download] Destination: C:\\Users\\Seogki\\GoogleDrive\\데이터청년캠퍼스_고려대과정\\youtube_data\\‘베테랑’ 산후도우미라더니…CCTV에 또 잡힌 신생아 학대 _ KBS 2021.06.11..webm\n",
      "[download] 100% of 7.51MiB in 00:00                  \n",
      "[youtube] ZIQcTxaTo_0: Downloading webpage\n",
      "[download] Destination: C:\\Users\\Seogki\\GoogleDrive\\데이터청년캠퍼스_고려대과정\\youtube_data\\CCTV 등지고 머리 잡아당겨…또 어린이집 학대 수사 _ KBS뉴스(News).mp4\n",
      "[download] 100% of 17.44MiB in 00:00                          \n",
      "[youtube] vAAQJ67U9Pg: Downloading webpage\n",
      "[download] Destination: C:\\Users\\Seogki\\GoogleDrive\\데이터청년캠퍼스_고려대과정\\youtube_data\\4살 아이를 숨 못쉬게 누르고 멱살까지 잡았다고.. 또 벌어진 아동학대, 대체 언제까지 이럴래!.mp4\n",
      "[download] 100% of 21.67MiB in 00:01                          \n",
      "[youtube] i2HpWo6394E: Downloading webpage\n",
      "[download] Destination: C:\\Users\\Seogki\\GoogleDrive\\데이터청년캠퍼스_고려대과정\\youtube_data\\'마스크 벗겨질 정도로 때려' 대전 어린이집 CCTV 봤더니 _ 연합뉴스 (Yonhapnews).webm\n",
      "[download] 100% of 5.03MiB in 00:00                   \n",
      "[youtube] qS24PxikzAs: Downloading webpage\n",
      "[youtube] qS24PxikzAs: Downloading MPD manifest\n",
      "[dashsegments] Total fragments: 25\n",
      "[download] Destination: C:\\Users\\Seogki\\GoogleDrive\\데이터청년캠퍼스_고려대과정\\youtube_data\\이번엔 국공립어린이집…CCTV에 담긴 학대 정황 _ KBS.webm\n",
      "[download] 100% of 10.26MiB in 00:02                    \n",
      "[youtube] FFdUSm9d-DE: Downloading webpage\n",
      "[download] Destination: C:\\Users\\Seogki\\GoogleDrive\\데이터청년캠퍼스_고려대과정\\youtube_data\\유치원 내 CCTV 설치 의무화...아동학대방지 위해 필요.mp4\n",
      "[download] 100% of 22.21MiB in 00:00                          \n",
      "[youtube] jL2PP9_0ft4: Downloading webpage\n",
      "[download] Destination: C:\\Users\\Seogki\\GoogleDrive\\데이터청년캠퍼스_고려대과정\\youtube_data\\CCTV 속 아이는 울고 있었다...또 어린이집 학대 _ 비디오머그.webm\n",
      "[download] 100% of 7.92MiB in 00:00                   \n",
      "[youtube] QYjm7xfG_iQ: Downloading webpage\n",
      "[download] Destination: C:\\Users\\Seogki\\GoogleDrive\\데이터청년캠퍼스_고려대과정\\youtube_data\\[취재N팩트] '13개월 영아도 학대' CCTV 추가 공개...'사물함에 가두기도' _ YTN.mp4\n",
      "[download] 100% of 59.80MiB in 00:11                          \n",
      "[youtube] Y0MP5UazjvY: Downloading webpage\n",
      "[download] Destination: C:\\Users\\Seogki\\GoogleDrive\\데이터청년캠퍼스_고려대과정\\youtube_data\\CCTV속 어린이집 원장 학대 정황...엎드린 아이 몸으로 눌러 _ YTN.mp4\n",
      "[download]  17.5% of 26.26MiB at 59.68KiB/s ETA 06:11   "
     ]
    }
   ],
   "source": [
    "ydl_opt = {\n",
    "    'outtmpl': output_dir,\n",
    "    'format': \"bestvideo[height=720]\"\n",
    "}\n",
    "\n",
    "with youtube_dl.YoutubeDL(ydl_opt) as ydl:\n",
    "    ydl.download(link_list)"
   ]
  }
 ],
 "metadata": {
  "kernelspec": {
   "display_name": "Python 3",
   "language": "python",
   "name": "python3"
  },
  "language_info": {
   "codemirror_mode": {
    "name": "ipython",
    "version": 3
   },
   "file_extension": ".py",
   "mimetype": "text/x-python",
   "name": "python",
   "nbconvert_exporter": "python",
   "pygments_lexer": "ipython3",
   "version": "3.8.5"
  }
 },
 "nbformat": 4,
 "nbformat_minor": 5
}

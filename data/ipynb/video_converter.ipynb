{
 "cells": [
  {
   "cell_type": "code",
   "execution_count": 1,
   "id": "english-nurse",
   "metadata": {},
   "outputs": [],
   "source": [
    "import numpy as np\n",
    "import cv2\n",
    "import os\n",
    "import glob\n",
    "import imutils\n",
    "import time\n",
    "import re\n",
    "import ffmpeg"
   ]
  },
  {
   "cell_type": "code",
   "execution_count": 19,
   "id": "expected-journal",
   "metadata": {},
   "outputs": [],
   "source": [
    "path = \"D:/AIHub/이상행동 CCTV 영상/01.폭행(assult)\" "
   ]
  },
  {
   "cell_type": "code",
   "execution_count": 20,
   "id": "prompt-royalty",
   "metadata": {},
   "outputs": [],
   "source": [
    "video_path = os.listdir(path)"
   ]
  },
  {
   "cell_type": "code",
   "execution_count": 15,
   "id": "aging-initial",
   "metadata": {},
   "outputs": [],
   "source": [
    "def video_resize2(vid_path, output_path, width, overwrite = False):\n",
    "    '''\n",
    "    use ffmpeg to resize the input video to the width given, keeping aspect ratio\n",
    "    '''\n",
    "    if not( os.path.isdir(os.path.dirname(output_path))):\n",
    "        raise ValueError(f'output_path directory does not exists: {os.path.dirname(output_path)}')\n",
    "\n",
    "    stream = ffmpeg.input(vid_path)\n",
    "    stream = ffmpeg.filter(stream, 'scale', width, -2)\n",
    "    #stream = ffmpeg.filter(stream, 'fps', fps=24, round='up')\n",
    "    stream = ffmpeg.output(stream, output_path)\n",
    "    ffmpeg.run(stream)\n",
    "    return output_path"
   ]
  },
  {
   "cell_type": "code",
   "execution_count": 18,
   "id": "compatible-profile",
   "metadata": {},
   "outputs": [
    {
     "data": {
      "text/plain": [
       "'D:/AIHub/이상행동 CCTV 영상/01.폭행(assult)\\\\inside_croki_01\\\\10-1\\\\10-1_cam03_assault03_place07_night_winter_TEST.mp4'"
      ]
     },
     "execution_count": 18,
     "metadata": {},
     "output_type": "execute_result"
    }
   ],
   "source": [
    "video_resize2(video_files[1],out_name,720)"
   ]
  },
  {
   "cell_type": "code",
   "execution_count": null,
   "id": "informal-interim",
   "metadata": {},
   "outputs": [],
   "source": []
  },
  {
   "cell_type": "code",
   "execution_count": null,
   "id": "moderate-stylus",
   "metadata": {},
   "outputs": [],
   "source": []
  },
  {
   "cell_type": "code",
   "execution_count": null,
   "id": "successful-france",
   "metadata": {},
   "outputs": [],
   "source": [
    "len(glob.glob(path +'/**/*.avi', recursive=True)), len(glob.glob(path +'/**/*.mp4', recursive=True))"
   ]
  },
  {
   "cell_type": "code",
   "execution_count": null,
   "id": "developmental-victor",
   "metadata": {},
   "outputs": [],
   "source": [
    "from converter import Converter"
   ]
  },
  {
   "cell_type": "code",
   "execution_count": null,
   "id": "demonstrated-empty",
   "metadata": {},
   "outputs": [],
   "source": [
    "ffmpeg_path = r'C:\\ffmpeg\\bin\\ffmpeg.exe'\n",
    "ffprobe_path = r'C:\\ffmpeg\\bin\\ffprobe.exe'\n",
    "conv = Converter(ffmpeg_path, ffprobe_path)"
   ]
  },
  {
   "cell_type": "code",
   "execution_count": 10,
   "id": "fundamental-victory",
   "metadata": {},
   "outputs": [],
   "source": [
    "video_files = glob.glob(path +'/**/*.mp4', recursive=True)"
   ]
  },
  {
   "cell_type": "code",
   "execution_count": 11,
   "id": "south-happiness",
   "metadata": {},
   "outputs": [],
   "source": [
    "out_name = '.'.join(video_files[1].split('.')[:-1]) + '_TEST.mp4'"
   ]
  },
  {
   "cell_type": "code",
   "execution_count": 71,
   "id": "sudden-baking",
   "metadata": {},
   "outputs": [],
   "source": [
    "info = conv.probe(video_files[0])"
   ]
  },
  {
   "cell_type": "code",
   "execution_count": 72,
   "id": "cross-accordance",
   "metadata": {},
   "outputs": [],
   "source": [
    "width, height, frame_rate = re.findall(r'width=(\\d+), height=(\\d+), fps=(\\d+)', str(info.streams[0]))[0]"
   ]
  },
  {
   "cell_type": "code",
   "execution_count": 73,
   "id": "inner-spokesman",
   "metadata": {},
   "outputs": [
    {
     "data": {
      "text/plain": [
       "('3840', '2160', '30')"
      ]
     },
     "execution_count": 73,
     "metadata": {},
     "output_type": "execute_result"
    }
   ],
   "source": [
    "width, height, frame_rate"
   ]
  },
  {
   "cell_type": "code",
   "execution_count": 74,
   "id": "native-shaft",
   "metadata": {},
   "outputs": [],
   "source": [
    "out_width = 720"
   ]
  },
  {
   "cell_type": "code",
   "execution_count": 75,
   "id": "smart-interview",
   "metadata": {},
   "outputs": [],
   "source": [
    "out_height = int(height)/ (int(width) / out_width)"
   ]
  },
  {
   "cell_type": "code",
   "execution_count": 76,
   "id": "military-error",
   "metadata": {},
   "outputs": [
    {
     "data": {
      "text/plain": [
       "\"\\n\\n    'audio': {\\n        'codec': 'aac',\\n        'samplerate': 11025,\\n        'channels': 2\\n    },\\n\""
      ]
     },
     "execution_count": 76,
     "metadata": {},
     "output_type": "execute_result"
    }
   ],
   "source": [
    "out_height\n",
    "'''\n",
    "\n",
    "    'audio': {\n",
    "        'codec': 'aac',\n",
    "        'samplerate': 11025,\n",
    "        'channels': 2\n",
    "    },\n",
    "'''"
   ]
  },
  {
   "cell_type": "code",
   "execution_count": 79,
   "id": "pending-premises",
   "metadata": {},
   "outputs": [],
   "source": [
    "convert = conv.convert(video_files[0],out_name , {\n",
    "    'format': 'mp4',\n",
    "    'audio': {\n",
    "        'codec': 'aac',\n",
    "        'samplerate': 11025,\n",
    "        'channels': 2\n",
    "    },\n",
    "    'video': {\n",
    "        'codec': 'hevc',\n",
    "        'width': out_width,\n",
    "        'height': out_height,\n",
    "        'fps': 24\n",
    "    }})"
   ]
  },
  {
   "cell_type": "code",
   "execution_count": null,
   "id": "western-cannon",
   "metadata": {},
   "outputs": [],
   "source": []
  },
  {
   "cell_type": "code",
   "execution_count": null,
   "id": "foster-trailer",
   "metadata": {},
   "outputs": [],
   "source": []
  },
  {
   "cell_type": "code",
   "execution_count": 14,
   "id": "becoming-northwest",
   "metadata": {},
   "outputs": [],
   "source": []
  },
  {
   "cell_type": "code",
   "execution_count": 13,
   "id": "lonely-incentive",
   "metadata": {},
   "outputs": [
    {
     "name": "stdout",
     "output_type": "stream",
     "text": [
      "D:/AIHub/이상행동 CCTV 영상/01.폭행(assult)\\inside_croki_01\\10-1\\10-1_cam03_assault03_place07_night_winter.mp4 \n",
      "\r",
      " D:/AIHub/이상행동 CCTV 영상/01.폭행(assult)\\inside_croki_01\\10-1\\10-1_cam03_assault03_place07_night_winter_TEST.mp4\n"
     ]
    }
   ],
   "source": [
    "print(video_files[1],'\\n\\r',out_name)"
   ]
  },
  {
   "cell_type": "code",
   "execution_count": 2,
   "id": "enormous-ethernet",
   "metadata": {},
   "outputs": [],
   "source": [
    "path = 'C:/Users/Seogki/Desktop/테스트영상.mp4'"
   ]
  },
  {
   "cell_type": "code",
   "execution_count": 5,
   "id": "native-league",
   "metadata": {},
   "outputs": [],
   "source": [
    "import os\n",
    "from moviepy.tools import subprocess_call\n",
    "from moviepy.config import get_setting\n",
    "\n",
    "def ffmpeg_extract_subclip(filename, t1, t2, targetname=None):\n",
    "    \"\"\" Makes a new video file playing video file ``filename`` between\n",
    "    the times ``t1`` and ``t2``. \"\"\"\n",
    "    name, ext = os.path.splitext(filename)\n",
    "    if not targetname:\n",
    "        T1, T2 = [int(1000*t) for t in [t1, t2]]\n",
    "        targetname = \"%sSUB%d_%d.%s\" % (name, T1, T2, ext)\n",
    "\n",
    "    cmd = [get_setting(\"FFMPEG_BINARY\"),\"-y\",\n",
    "           \"-ss\", \"%0.2f\"%t1,\n",
    "           \"-i\", filename,\n",
    "           \"-t\", \"%0.2f\"%(t2-t1),\n",
    "           \"-vcodec\", \"copy\", \"-acodec\", \"copy\", targetname]\n",
    "\n",
    "    subprocess_call(cmd)"
   ]
  },
  {
   "cell_type": "code",
   "execution_count": 9,
   "id": "athletic-lighting",
   "metadata": {},
   "outputs": [
    {
     "name": "stdout",
     "output_type": "stream",
     "text": [
      "Moviepy - Running:\n",
      ">>> \"+ \" \".join(cmd)\n",
      "Moviepy - Command successful\n"
     ]
    }
   ],
   "source": [
    "save_path = 'C:/Users/Seogki/Desktop/테스트영상_cropped.mp4'\n",
    "ffmpeg_extract_subclip(path,5.0,89,save_path)"
   ]
  },
  {
   "cell_type": "code",
   "execution_count": null,
   "id": "heard-master",
   "metadata": {},
   "outputs": [],
   "source": []
  }
 ],
 "metadata": {
  "kernelspec": {
   "display_name": "Python 3",
   "language": "python",
   "name": "python3"
  },
  "language_info": {
   "codemirror_mode": {
    "name": "ipython",
    "version": 3
   },
   "file_extension": ".py",
   "mimetype": "text/x-python",
   "name": "python",
   "nbconvert_exporter": "python",
   "pygments_lexer": "ipython3",
   "version": "3.8.5"
  }
 },
 "nbformat": 4,
 "nbformat_minor": 5
}

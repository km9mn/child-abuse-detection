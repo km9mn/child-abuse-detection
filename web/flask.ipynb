{
 "cells": [
  {
   "cell_type": "code",
   "execution_count": 1,
   "id": "premier-participation",
   "metadata": {},
   "outputs": [],
   "source": [
    "from flask import Flask, render_template"
   ]
  },
  {
   "cell_type": "code",
   "execution_count": 2,
   "id": "occupied-going",
   "metadata": {},
   "outputs": [],
   "source": [
    "app = Flask(__name__)"
   ]
  },
  {
   "cell_type": "code",
   "execution_count": 21,
   "id": "quiet-membrane",
   "metadata": {},
   "outputs": [
    {
     "name": "stdout",
     "output_type": "stream",
     "text": [
      " * Serving Flask app \"__main__\" (lazy loading)\n",
      " * Environment: production\n",
      "   WARNING: This is a development server. Do not use it in a production deployment.\n",
      "   Use a production WSGI server instead.\n",
      " * Debug mode: off\n"
     ]
    },
    {
     "name": "stderr",
     "output_type": "stream",
     "text": [
      "C:\\Users\\Seogki\\Anaconda3\\lib\\site-packages\\flask_sqlalchemy\\__init__.py:872: FSADeprecationWarning: SQLALCHEMY_TRACK_MODIFICATIONS adds significant overhead and will be disabled by default in the future.  Set it to True or False to suppress this warning.\n",
      "  warnings.warn(FSADeprecationWarning(\n",
      " * Running on http://127.0.0.1:5000/ (Press CTRL+C to quit)\n",
      "127.0.0.1 - - [17/Aug/2021 14:42:37] \"\u001b[37mGET / HTTP/1.1\u001b[0m\" 200 -\n",
      "127.0.0.1 - - [17/Aug/2021 14:42:44] \"\u001b[37mPOST /main HTTP/1.1\u001b[0m\" 200 -\n"
     ]
    },
    {
     "name": "stdout",
     "output_type": "stream",
     "text": [
      "asd 112\n"
     ]
    },
    {
     "name": "stderr",
     "output_type": "stream",
     "text": [
      "127.0.0.1 - - [17/Aug/2021 14:42:50] \"\u001b[37mPOST /main HTTP/1.1\u001b[0m\" 200 -\n"
     ]
    },
    {
     "name": "stdout",
     "output_type": "stream",
     "text": [
      "adsf 12\n"
     ]
    },
    {
     "name": "stderr",
     "output_type": "stream",
     "text": [
      "[2021-08-17 14:42:59,478] ERROR in app: Exception on /main [POST]\n",
      "Traceback (most recent call last):\n",
      "  File \"C:\\Users\\Seogki\\Anaconda3\\lib\\site-packages\\flask\\app.py\", line 2447, in wsgi_app\n",
      "    response = self.full_dispatch_request()\n",
      "  File \"C:\\Users\\Seogki\\Anaconda3\\lib\\site-packages\\flask\\app.py\", line 1952, in full_dispatch_request\n",
      "    rv = self.handle_user_exception(e)\n",
      "  File \"C:\\Users\\Seogki\\Anaconda3\\lib\\site-packages\\flask\\app.py\", line 1821, in handle_user_exception\n",
      "    reraise(exc_type, exc_value, tb)\n",
      "  File \"C:\\Users\\Seogki\\Anaconda3\\lib\\site-packages\\flask\\_compat.py\", line 39, in reraise\n",
      "    raise value\n",
      "  File \"C:\\Users\\Seogki\\Anaconda3\\lib\\site-packages\\flask\\app.py\", line 1950, in full_dispatch_request\n",
      "    rv = self.dispatch_request()\n",
      "  File \"C:\\Users\\Seogki\\Anaconda3\\lib\\site-packages\\flask\\app.py\", line 1936, in dispatch_request\n",
      "    return self.view_functions[rule.endpoint](**req.view_args)\n",
      "  File \"<ipython-input-21-ec640d871c40>\", line 48, in maain\n",
      "    return render_template('main.html')\n",
      "  File \"C:\\Users\\Seogki\\Anaconda3\\lib\\site-packages\\flask\\templating.py\", line 138, in render_template\n",
      "    ctx.app.jinja_env.get_or_select_template(template_name_or_list),\n",
      "  File \"C:\\Users\\Seogki\\Anaconda3\\lib\\site-packages\\jinja2\\environment.py\", line 930, in get_or_select_template\n",
      "    return self.get_template(template_name_or_list, parent, globals)\n",
      "  File \"C:\\Users\\Seogki\\Anaconda3\\lib\\site-packages\\jinja2\\environment.py\", line 883, in get_template\n",
      "    return self._load_template(name, self.make_globals(globals))\n",
      "  File \"C:\\Users\\Seogki\\Anaconda3\\lib\\site-packages\\jinja2\\environment.py\", line 857, in _load_template\n",
      "    template = self.loader.load(self, name, globals)\n",
      "  File \"C:\\Users\\Seogki\\Anaconda3\\lib\\site-packages\\jinja2\\loaders.py\", line 127, in load\n",
      "    code = environment.compile(source, name, filename)\n",
      "  File \"C:\\Users\\Seogki\\Anaconda3\\lib\\site-packages\\jinja2\\environment.py\", line 638, in compile\n",
      "    self.handle_exception(source=source_hint)\n",
      "  File \"C:\\Users\\Seogki\\Anaconda3\\lib\\site-packages\\jinja2\\environment.py\", line 832, in handle_exception\n",
      "    reraise(*rewrite_traceback_stack(source=source))\n",
      "  File \"C:\\Users\\Seogki\\Anaconda3\\lib\\site-packages\\jinja2\\_compat.py\", line 28, in reraise\n",
      "    raise value.with_traceback(tb)\n",
      "  File \"C:\\Users\\Seogki\\GoogleDrive\\데이터청년캠퍼스_고려대과정\\child-abuse-detection\\web\\templates\\main.html\", line 17, in template\n",
      "    {% comment %} <script type=\"text/javascript\">\n",
      "jinja2.exceptions.TemplateSyntaxError: Encountered unknown tag 'comment'.\n",
      "127.0.0.1 - - [17/Aug/2021 14:42:59] \"\u001b[35m\u001b[1mPOST /main HTTP/1.1\u001b[0m\" 500 -\n"
     ]
    },
    {
     "name": "stdout",
     "output_type": "stream",
     "text": [
      "adsf 1234\n"
     ]
    }
   ],
   "source": [
    "import re\n",
    "import bcrypt\n",
    "import datetime\n",
    "from flask import Flask, render_template, request, redirect, session, flash\n",
    "from model import Daycare, ReportList, User, Video\n",
    "from flask_sqlalchemy import SQLAlchemy\n",
    "\n",
    "app = Flask(__name__)\n",
    "app.secret_key = 'super secret key'\n",
    "app.config['SESSION_TYPE'] = 'filesystem'\n",
    "#basedir = os.path.abspath(os.path.dirname(__file__)) #현재 파일이 있는 디렉토리 절대 경로\n",
    "#dbfile = os.path.join(basedir, 'database_1.db')\n",
    "app.config['SQLALCHEMY_DATABASE_URI'] = 'sqlite:///database_1.db'\n",
    "db = SQLAlchemy(app)\n",
    "\n",
    "@app.route('/')\n",
    "def home():\n",
    "    return render_template('index.html')\n",
    "\n",
    "@app.route('/regiester', methods=['GET','POST'])\n",
    "def regiester():\n",
    "    if request.method == 'GET':\n",
    "        return render_template('register.html')\n",
    "    else:\n",
    "        \n",
    "        data = request.form\n",
    "        print(data.email, data.password)\n",
    "    return render_template('index.html')\n",
    "\n",
    "\n",
    "@app.route('/main',methods=['GET','POST'])\n",
    "def maain():\n",
    "    if request.method == 'GET':\n",
    "        return render_template('register.html')\n",
    "    else:\n",
    "        email = request.form['email'] \n",
    "        password = request.form['password']\n",
    "        print(email, password)\n",
    "        if email == 'adsf':\n",
    "            if password == '1234':\n",
    "                return render_template('main.html')\n",
    "            else:\n",
    "                flash(\"Please Input PW\")\n",
    "                return render_template('index.html')\n",
    "        else:\n",
    "            flash(\"Please Input ID\")\n",
    "            return render_template('index.html')\n",
    "\n",
    "@app.route('/register')\n",
    "def register():\n",
    "    return render_template('register.html')\n",
    "    \n",
    "def check_email_format(email):\n",
    "    regex = '^[a-z0-9]+[\\._]?[ a-z0-9]+[@]\\w+[. ]\\w{2,3}$'\n",
    "    return True if re.search(regex,email) else False\n",
    "\n",
    "def hash_password(password):\n",
    "    password.encode('utf-8')\n",
    "    hashed_pw = bcrypt.hashpw(password.encode('utf-8'), bcrypt.gensalt())\n",
    "    return hashed_pw\n",
    "\n",
    "def check_password(password1, password2):\n",
    "    return bcrypt.checkpw(password1.encode('utf-8'), password2)\n",
    "\n",
    "def convert_datetime(unixtime):\n",
    "    \"\"\"Convert unixtime to datetime\"\"\"\n",
    "    date = datetime.datetime.fromtimestamp(unixtime).strftime('%Y-%m-%d %H:%M:%S')\n",
    "    return date # format : str\n",
    "\n",
    "def convert_unixtime(date_time):\n",
    "    \"\"\"Convert datetime to unixtime\"\"\"\n",
    "    unixtime = datetime.datetime.strptime(date_time,'%Y-%m-%d %H:%M:%S').timestamp()\n",
    "    return unixtime\n",
    "\n",
    "\n",
    "#app.debug = True\n",
    "app.run()"
   ]
  },
  {
   "cell_type": "code",
   "execution_count": 5,
   "id": "bored-activity",
   "metadata": {},
   "outputs": [
    {
     "name": "stdout",
     "output_type": "stream",
     "text": [
      "Collecting flask-sqlacodegen\n",
      "  Downloading flask_sqlacodegen-1.1.8-py2.py3-none-any.whl (12 kB)\n",
      "Requirement already satisfied: SQLAlchemy>=0.6.0 in c:\\users\\seogki\\anaconda3\\lib\\site-packages (from flask-sqlacodegen) (1.3.21)\n",
      "Collecting inflect>=0.2.0\n",
      "  Downloading inflect-5.3.0-py3-none-any.whl (32 kB)\n",
      "Installing collected packages: inflect, flask-sqlacodegen\n",
      "Successfully installed flask-sqlacodegen-1.1.8 inflect-5.3.0\n",
      "Note: you may need to restart the kernel to use updated packages.\n"
     ]
    }
   ],
   "source": [
    "pip install flask-sqlacodegen"
   ]
  },
  {
   "cell_type": "code",
   "execution_count": 8,
   "id": "animated-claim",
   "metadata": {},
   "outputs": [],
   "source": [
    "!flask-sqlacodegen \"sqlite:///database_1.db\" --flask > model.py"
   ]
  },
  {
   "cell_type": "code",
   "execution_count": 11,
   "id": "absent-cleaners",
   "metadata": {},
   "outputs": [
    {
     "name": "stdout",
     "output_type": "stream",
     "text": [
      "Collecting Flask-SQLAlchemy\n",
      "  Downloading Flask_SQLAlchemy-2.5.1-py2.py3-none-any.whl (17 kB)\n",
      "Requirement already satisfied: Flask>=0.10 in c:\\users\\seogki\\anaconda3\\lib\\site-packages (from Flask-SQLAlchemy) (1.1.2)\n",
      "Requirement already satisfied: SQLAlchemy>=0.8.0 in c:\\users\\seogki\\anaconda3\\lib\\site-packages (from Flask-SQLAlchemy) (1.3.21)\n",
      "Requirement already satisfied: click>=5.1 in c:\\users\\seogki\\anaconda3\\lib\\site-packages (from Flask>=0.10->Flask-SQLAlchemy) (7.1.2)\n",
      "Requirement already satisfied: itsdangerous>=0.24 in c:\\users\\seogki\\anaconda3\\lib\\site-packages (from Flask>=0.10->Flask-SQLAlchemy) (1.1.0)\n",
      "Requirement already satisfied: Werkzeug>=0.15 in c:\\users\\seogki\\anaconda3\\lib\\site-packages (from Flask>=0.10->Flask-SQLAlchemy) (1.0.1)\n",
      "Requirement already satisfied: Jinja2>=2.10.1 in c:\\users\\seogki\\anaconda3\\lib\\site-packages (from Flask>=0.10->Flask-SQLAlchemy) (2.11.2)\n",
      "Requirement already satisfied: MarkupSafe>=0.23 in c:\\users\\seogki\\anaconda3\\lib\\site-packages (from Jinja2>=2.10.1->Flask>=0.10->Flask-SQLAlchemy) (1.1.1)\n",
      "Installing collected packages: Flask-SQLAlchemy\n",
      "Successfully installed Flask-SQLAlchemy-2.5.1\n"
     ]
    }
   ],
   "source": [
    "!pip install Flask-SQLAlchemy"
   ]
  },
  {
   "cell_type": "code",
   "execution_count": null,
   "id": "received-worst",
   "metadata": {},
   "outputs": [],
   "source": []
  },
  {
   "cell_type": "code",
   "execution_count": null,
   "id": "thrown-salvation",
   "metadata": {},
   "outputs": [],
   "source": []
  }
 ],
 "metadata": {
  "kernelspec": {
   "display_name": "Python 3",
   "language": "python",
   "name": "python3"
  },
  "language_info": {
   "codemirror_mode": {
    "name": "ipython",
    "version": 3
   },
   "file_extension": ".py",
   "mimetype": "text/x-python",
   "name": "python",
   "nbconvert_exporter": "python",
   "pygments_lexer": "ipython3",
   "version": "3.8.5"
  }
 },
 "nbformat": 4,
 "nbformat_minor": 5
}

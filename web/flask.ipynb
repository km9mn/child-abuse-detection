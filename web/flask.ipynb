{
 "cells": [
  {
   "cell_type": "code",
   "execution_count": 122,
   "id": "800776ae",
   "metadata": {},
   "outputs": [],
   "source": [
    "from flask import Flask, render_template"
   ]
  },
  {
   "cell_type": "code",
   "execution_count": 166,
   "id": "65c2cd8a",
   "metadata": {},
   "outputs": [],
   "source": [
    "app = Flask(__name__)"
   ]
  },
  {
   "cell_type": "code",
   "execution_count": 167,
   "id": "19de223e",
   "metadata": {},
   "outputs": [
    {
     "ename": "AssertionError",
     "evalue": "View function mapping is overwriting an existing endpoint function: index",
     "output_type": "error",
     "traceback": [
      "\u001b[0;31m---------------------------------------------------------------------------\u001b[0m",
      "\u001b[0;31mAssertionError\u001b[0m                            Traceback (most recent call last)",
      "\u001b[0;32m<ipython-input-167-a73568dfb481>\u001b[0m in \u001b[0;36m<module>\u001b[0;34m\u001b[0m\n\u001b[1;32m      4\u001b[0m \u001b[0;34m\u001b[0m\u001b[0m\n\u001b[1;32m      5\u001b[0m \u001b[0;34m@\u001b[0m\u001b[0mapp\u001b[0m\u001b[0;34m.\u001b[0m\u001b[0mroute\u001b[0m\u001b[0;34m(\u001b[0m\u001b[0;34m'/register'\u001b[0m\u001b[0;34m)\u001b[0m\u001b[0;34m\u001b[0m\u001b[0;34m\u001b[0m\u001b[0m\n\u001b[0;32m----> 6\u001b[0;31m \u001b[0;32mdef\u001b[0m \u001b[0mindex\u001b[0m\u001b[0;34m(\u001b[0m\u001b[0;34m)\u001b[0m\u001b[0;34m:\u001b[0m\u001b[0;34m\u001b[0m\u001b[0;34m\u001b[0m\u001b[0m\n\u001b[0m\u001b[1;32m      7\u001b[0m     \u001b[0;32mreturn\u001b[0m \u001b[0mrender_template\u001b[0m\u001b[0;34m(\u001b[0m\u001b[0;34m'm.html'\u001b[0m\u001b[0;34m)\u001b[0m\u001b[0;34m\u001b[0m\u001b[0;34m\u001b[0m\u001b[0m\n\u001b[1;32m      8\u001b[0m \u001b[0;34m\u001b[0m\u001b[0m\n",
      "\u001b[0;32m/Library/Frameworks/Python.framework/Versions/3.9/lib/python3.9/site-packages/flask/scaffold.py\u001b[0m in \u001b[0;36mdecorator\u001b[0;34m(f)\u001b[0m\n\u001b[1;32m    433\u001b[0m         \u001b[0;32mdef\u001b[0m \u001b[0mdecorator\u001b[0m\u001b[0;34m(\u001b[0m\u001b[0mf\u001b[0m\u001b[0;34m:\u001b[0m \u001b[0mt\u001b[0m\u001b[0;34m.\u001b[0m\u001b[0mCallable\u001b[0m\u001b[0;34m)\u001b[0m \u001b[0;34m->\u001b[0m \u001b[0mt\u001b[0m\u001b[0;34m.\u001b[0m\u001b[0mCallable\u001b[0m\u001b[0;34m:\u001b[0m\u001b[0;34m\u001b[0m\u001b[0;34m\u001b[0m\u001b[0m\n\u001b[1;32m    434\u001b[0m             \u001b[0mendpoint\u001b[0m \u001b[0;34m=\u001b[0m \u001b[0moptions\u001b[0m\u001b[0;34m.\u001b[0m\u001b[0mpop\u001b[0m\u001b[0;34m(\u001b[0m\u001b[0;34m\"endpoint\"\u001b[0m\u001b[0;34m,\u001b[0m \u001b[0;32mNone\u001b[0m\u001b[0;34m)\u001b[0m\u001b[0;34m\u001b[0m\u001b[0;34m\u001b[0m\u001b[0m\n\u001b[0;32m--> 435\u001b[0;31m             \u001b[0mself\u001b[0m\u001b[0;34m.\u001b[0m\u001b[0madd_url_rule\u001b[0m\u001b[0;34m(\u001b[0m\u001b[0mrule\u001b[0m\u001b[0;34m,\u001b[0m \u001b[0mendpoint\u001b[0m\u001b[0;34m,\u001b[0m \u001b[0mf\u001b[0m\u001b[0;34m,\u001b[0m \u001b[0;34m**\u001b[0m\u001b[0moptions\u001b[0m\u001b[0;34m)\u001b[0m\u001b[0;34m\u001b[0m\u001b[0;34m\u001b[0m\u001b[0m\n\u001b[0m\u001b[1;32m    436\u001b[0m             \u001b[0;32mreturn\u001b[0m \u001b[0mf\u001b[0m\u001b[0;34m\u001b[0m\u001b[0;34m\u001b[0m\u001b[0m\n\u001b[1;32m    437\u001b[0m \u001b[0;34m\u001b[0m\u001b[0m\n",
      "\u001b[0;32m/Library/Frameworks/Python.framework/Versions/3.9/lib/python3.9/site-packages/flask/scaffold.py\u001b[0m in \u001b[0;36mwrapper_func\u001b[0;34m(self, *args, **kwargs)\u001b[0m\n\u001b[1;32m     54\u001b[0m                 \u001b[0;34m\" requests.\"\u001b[0m\u001b[0;34m\u001b[0m\u001b[0;34m\u001b[0m\u001b[0m\n\u001b[1;32m     55\u001b[0m             )\n\u001b[0;32m---> 56\u001b[0;31m         \u001b[0;32mreturn\u001b[0m \u001b[0mf\u001b[0m\u001b[0;34m(\u001b[0m\u001b[0mself\u001b[0m\u001b[0;34m,\u001b[0m \u001b[0;34m*\u001b[0m\u001b[0margs\u001b[0m\u001b[0;34m,\u001b[0m \u001b[0;34m**\u001b[0m\u001b[0mkwargs\u001b[0m\u001b[0;34m)\u001b[0m\u001b[0;34m\u001b[0m\u001b[0;34m\u001b[0m\u001b[0m\n\u001b[0m\u001b[1;32m     57\u001b[0m \u001b[0;34m\u001b[0m\u001b[0m\n\u001b[1;32m     58\u001b[0m     \u001b[0;32mreturn\u001b[0m \u001b[0mt\u001b[0m\u001b[0;34m.\u001b[0m\u001b[0mcast\u001b[0m\u001b[0;34m(\u001b[0m\u001b[0mF\u001b[0m\u001b[0;34m,\u001b[0m \u001b[0mupdate_wrapper\u001b[0m\u001b[0;34m(\u001b[0m\u001b[0mwrapper_func\u001b[0m\u001b[0;34m,\u001b[0m \u001b[0mf\u001b[0m\u001b[0;34m)\u001b[0m\u001b[0;34m)\u001b[0m\u001b[0;34m\u001b[0m\u001b[0;34m\u001b[0m\u001b[0m\n",
      "\u001b[0;32m/Library/Frameworks/Python.framework/Versions/3.9/lib/python3.9/site-packages/flask/app.py\u001b[0m in \u001b[0;36madd_url_rule\u001b[0;34m(self, rule, endpoint, view_func, provide_automatic_options, **options)\u001b[0m\n\u001b[1;32m   1090\u001b[0m             \u001b[0mold_func\u001b[0m \u001b[0;34m=\u001b[0m \u001b[0mself\u001b[0m\u001b[0;34m.\u001b[0m\u001b[0mview_functions\u001b[0m\u001b[0;34m.\u001b[0m\u001b[0mget\u001b[0m\u001b[0;34m(\u001b[0m\u001b[0mendpoint\u001b[0m\u001b[0;34m)\u001b[0m\u001b[0;34m\u001b[0m\u001b[0;34m\u001b[0m\u001b[0m\n\u001b[1;32m   1091\u001b[0m             \u001b[0;32mif\u001b[0m \u001b[0mold_func\u001b[0m \u001b[0;32mis\u001b[0m \u001b[0;32mnot\u001b[0m \u001b[0;32mNone\u001b[0m \u001b[0;32mand\u001b[0m \u001b[0mold_func\u001b[0m \u001b[0;34m!=\u001b[0m \u001b[0mview_func\u001b[0m\u001b[0;34m:\u001b[0m\u001b[0;34m\u001b[0m\u001b[0;34m\u001b[0m\u001b[0m\n\u001b[0;32m-> 1092\u001b[0;31m                 raise AssertionError(\n\u001b[0m\u001b[1;32m   1093\u001b[0m                     \u001b[0;34m\"View function mapping is overwriting an existing\"\u001b[0m\u001b[0;34m\u001b[0m\u001b[0;34m\u001b[0m\u001b[0m\n\u001b[1;32m   1094\u001b[0m                     \u001b[0;34mf\" endpoint function: {endpoint}\"\u001b[0m\u001b[0;34m\u001b[0m\u001b[0;34m\u001b[0m\u001b[0m\n",
      "\u001b[0;31mAssertionError\u001b[0m: View function mapping is overwriting an existing endpoint function: index"
     ]
    }
   ],
   "source": [
    "@app.route('/')\n",
    "def index():\n",
    "    return render_template('index.html')\n",
    "\n",
    "@app.route('/register')\n",
    "def index():\n",
    "    return render_template('m.html')\n",
    "\n",
    "@app.route('/main')\n",
    "def main():\n",
    "    return render_template('main.html')\n",
    "\n",
    "@app.route('/video')\n",
    "def video():\n",
    "    return render_template('video.html')\n",
    "\n",
    "@app.route('/list')\n",
    "def report_list():\n",
    "    return render_template('list.html')"
   ]
  },
  {
   "cell_type": "code",
   "execution_count": 170,
   "id": "de92a3fd",
   "metadata": {},
   "outputs": [
    {
     "name": "stdout",
     "output_type": "stream",
     "text": [
      " * Serving Flask app '__main__' (lazy loading)\n",
      " * Environment: production\n",
      "\u001b[31m   WARNING: This is a development server. Do not use it in a production deployment.\u001b[0m\n",
      "\u001b[2m   Use a production WSGI server instead.\u001b[0m\n",
      " * Debug mode: off\n"
     ]
    },
    {
     "name": "stderr",
     "output_type": "stream",
     "text": [
      " * Running on http://127.0.0.1:5000/ (Press CTRL+C to quit)\n",
      "127.0.0.1 - - [12/Aug/2021 17:25:34] \"GET / HTTP/1.1\" 200 -\n",
      "127.0.0.1 - - [12/Aug/2021 17:25:34] \"GET /static/assets/css/main.css HTTP/1.1\" 304 -\n",
      "127.0.0.1 - - [12/Aug/2021 17:25:34] \"GET /static/assets/js/jquery.min.js HTTP/1.1\" 304 -\n",
      "127.0.0.1 - - [12/Aug/2021 17:25:34] \"GET /static/assets/js/jquery.scrolly.min.js HTTP/1.1\" 304 -\n",
      "127.0.0.1 - - [12/Aug/2021 17:25:34] \"GET /static/assets/js/breakpoints.min.js HTTP/1.1\" 304 -\n",
      "127.0.0.1 - - [12/Aug/2021 17:25:34] \"GET /static/assets/js/jquery.scrollex.min.js HTTP/1.1\" 304 -\n",
      "127.0.0.1 - - [12/Aug/2021 17:25:34] \"GET /static/assets/js/browser.min.js HTTP/1.1\" 304 -\n",
      "127.0.0.1 - - [12/Aug/2021 17:25:34] \"GET /static/assets/js/util.js HTTP/1.1\" 304 -\n",
      "127.0.0.1 - - [12/Aug/2021 17:25:34] \"GET /static/assets/js/main.js HTTP/1.1\" 304 -\n",
      "127.0.0.1 - - [12/Aug/2021 17:25:34] \"GET /static/assets/css/fontawesome-all.min.css HTTP/1.1\" 304 -\n",
      "127.0.0.1 - - [12/Aug/2021 17:25:34] \"GET /static/assets/webfonts/fa-brands-400.woff2 HTTP/1.1\" 304 -\n"
     ]
    }
   ],
   "source": [
    "if __name__ == '__main__':\n",
    "    app.run()"
   ]
  },
  {
   "cell_type": "code",
   "execution_count": null,
   "id": "ea893b32",
   "metadata": {},
   "outputs": [],
   "source": []
  },
  {
   "cell_type": "code",
   "execution_count": 169,
   "id": "d9387877",
   "metadata": {},
   "outputs": [
    {
     "name": "stdout",
     "output_type": "stream",
     "text": [
      " * Serving Flask app '__main__' (lazy loading)\n",
      " * Environment: production\n",
      "\u001b[31m   WARNING: This is a development server. Do not use it in a production deployment.\u001b[0m\n",
      "\u001b[2m   Use a production WSGI server instead.\u001b[0m\n",
      " * Debug mode: off\n"
     ]
    },
    {
     "name": "stderr",
     "output_type": "stream",
     "text": [
      " * Running on http://127.0.0.1:5000/ (Press CTRL+C to quit)\n",
      "127.0.0.1 - - [12/Aug/2021 17:08:44] \"GET / HTTP/1.1\" 200 -\n",
      "127.0.0.1 - - [12/Aug/2021 17:08:44] \"GET /static/assets/css/main.css HTTP/1.1\" 304 -\n",
      "127.0.0.1 - - [12/Aug/2021 17:08:44] \"GET /static/assets/js/jquery.scrollex.min.js HTTP/1.1\" 304 -\n",
      "127.0.0.1 - - [12/Aug/2021 17:08:44] \"GET /static/assets/js/jquery.min.js HTTP/1.1\" 304 -\n",
      "127.0.0.1 - - [12/Aug/2021 17:08:44] \"GET /static/assets/js/jquery.scrolly.min.js HTTP/1.1\" 304 -\n",
      "127.0.0.1 - - [12/Aug/2021 17:08:44] \"GET /static/assets/js/browser.min.js HTTP/1.1\" 304 -\n",
      "127.0.0.1 - - [12/Aug/2021 17:08:44] \"GET /static/assets/js/breakpoints.min.js HTTP/1.1\" 304 -\n",
      "127.0.0.1 - - [12/Aug/2021 17:08:44] \"GET /static/assets/js/util.js HTTP/1.1\" 304 -\n",
      "127.0.0.1 - - [12/Aug/2021 17:08:44] \"GET /static/assets/js/main.js HTTP/1.1\" 304 -\n",
      "127.0.0.1 - - [12/Aug/2021 17:08:44] \"GET /static/assets/css/fontawesome-all.min.css HTTP/1.1\" 304 -\n",
      "127.0.0.1 - - [12/Aug/2021 17:08:44] \"GET /static/assets/webfonts/fa-brands-400.woff2 HTTP/1.1\" 304 -\n",
      "127.0.0.1 - - [12/Aug/2021 17:08:46] \"GET /main HTTP/1.1\" 404 -\n",
      "127.0.0.1 - - [12/Aug/2021 17:08:51] \"GET /main HTTP/1.1\" 404 -\n"
     ]
    }
   ],
   "source": [
    "from flask import Flask, request, render_template, session, url_for, redirect\n",
    " \n",
    "# app = Flask(__name__)\n",
    "# app.secret_key = 'super secret key'\n",
    "# app.config['SESSION_TYPE'] = 'filesystem'\n",
    "# userinfo = {'haha': '1234'}\n",
    " \n",
    " \n",
    "# @app.route('/')\n",
    "# def home():\n",
    "#     if session.get('logged_in'):\n",
    "#         return render_template('main.html')\n",
    "#     else:\n",
    "#         return render_template('index.html')\n",
    " \n",
    " \n",
    "# @app.route('/index', methods=['GET', 'POST'])\n",
    "# def login():\n",
    "#     if request.method == 'POST':\n",
    "#         email = request.form['email']\n",
    "#         password = request.form['password']\n",
    "#         try:\n",
    "#             if (email in userinfo):\n",
    "#                 if (password in userinfo):\n",
    "#                     session[\"logged_in\"] = True\n",
    "#                     return render_template('main.html')\n",
    "#                 else :\n",
    "#                     return '비밀번호가 틀립니다.'\n",
    "#                     #4번을 해보세요!\n",
    "#             else:\n",
    "#                 return '아이디가 없습니다.'\n",
    "#         except:\n",
    "#             return 'Dont login'\n",
    "#     else:\n",
    "#         return render_template('index.html')\n",
    " \n",
    " \n",
    "# @app.route('/register', methods=['GET', 'POST'])\n",
    "# def register():\n",
    "#     if request.method == 'POST':\n",
    "#         #4번을 해보세요!\n",
    "#         name = request.form['username'] \n",
    "#         password = request.form['password']\n",
    "#         userinfo[name] = password\n",
    "        \n",
    "#         return redirect(url_for('index'))\n",
    "#     else:\n",
    "#         return render_template('m.html')\n",
    " \n",
    " \n",
    "# @app.route(\"/logout\")\n",
    "# def logout():\n",
    "#     session['logged_in'] = False\n",
    "#     return render_template('index.html')\n",
    "    \n",
    "# if __name__ == '__main__':\n",
    "#     app.run()\n",
    "\n"
   ]
  },
  {
   "cell_type": "code",
   "execution_count": 23,
   "id": "f2eb9a0b",
   "metadata": {},
   "outputs": [
    {
     "name": "stdout",
     "output_type": "stream",
     "text": [
      " * Serving Flask app '__main__' (lazy loading)\n",
      " * Environment: production\n",
      "\u001b[31m   WARNING: This is a development server. Do not use it in a production deployment.\u001b[0m\n",
      "\u001b[2m   Use a production WSGI server instead.\u001b[0m\n",
      " * Debug mode: off\n"
     ]
    },
    {
     "name": "stderr",
     "output_type": "stream",
     "text": [
      " * Running on http://127.0.0.1:5000/ (Press CTRL+C to quit)\n",
      "127.0.0.1 - - [13/Aug/2021 13:42:31] \"GET / HTTP/1.1\" 200 -\n",
      "127.0.0.1 - - [13/Aug/2021 13:42:31] \"GET /static/assets/js/jquery.scrollex.min.js HTTP/1.1\" 304 -\n",
      "127.0.0.1 - - [13/Aug/2021 13:42:31] \"GET /static/assets/js/browser.min.js HTTP/1.1\" 304 -\n",
      "127.0.0.1 - - [13/Aug/2021 13:42:31] \"GET /static/assets/js/jquery.scrolly.min.js HTTP/1.1\" 304 -\n",
      "127.0.0.1 - - [13/Aug/2021 13:42:31] \"GET /static/assets/css/main.css HTTP/1.1\" 304 -\n",
      "127.0.0.1 - - [13/Aug/2021 13:42:31] \"GET /static/assets/js/jquery.min.js HTTP/1.1\" 304 -\n",
      "127.0.0.1 - - [13/Aug/2021 13:42:31] \"GET /static/assets/js/breakpoints.min.js HTTP/1.1\" 304 -\n",
      "127.0.0.1 - - [13/Aug/2021 13:42:31] \"GET /static/assets/js/util.js HTTP/1.1\" 304 -\n",
      "127.0.0.1 - - [13/Aug/2021 13:42:31] \"GET /static/assets/js/main.js HTTP/1.1\" 304 -\n",
      "127.0.0.1 - - [13/Aug/2021 13:42:31] \"GET /static/assets/css/fontawesome-all.min.css HTTP/1.1\" 304 -\n",
      "127.0.0.1 - - [13/Aug/2021 13:42:31] \"GET /static/assets/css/main.css HTTP/1.1\" 304 -\n",
      "127.0.0.1 - - [13/Aug/2021 13:42:31] \"GET /static/assets/js/jquery.scrolly.min.js HTTP/1.1\" 304 -\n",
      "127.0.0.1 - - [13/Aug/2021 13:42:31] \"GET /static/assets/js/jquery.scrollex.min.js HTTP/1.1\" 304 -\n",
      "127.0.0.1 - - [13/Aug/2021 13:42:31] \"GET /static/assets/js/jquery.min.js HTTP/1.1\" 304 -\n",
      "127.0.0.1 - - [13/Aug/2021 13:42:31] \"GET /static/assets/js/browser.min.js HTTP/1.1\" 304 -\n",
      "127.0.0.1 - - [13/Aug/2021 13:42:31] \"GET /static/assets/js/breakpoints.min.js HTTP/1.1\" 304 -\n",
      "127.0.0.1 - - [13/Aug/2021 13:42:31] \"GET /static/assets/js/util.js HTTP/1.1\" 304 -\n",
      "127.0.0.1 - - [13/Aug/2021 13:42:31] \"GET /static/assets/js/main.js HTTP/1.1\" 304 -\n",
      "127.0.0.1 - - [13/Aug/2021 13:42:31] \"GET /static/assets/css/fontawesome-all.min.css HTTP/1.1\" 304 -\n",
      "127.0.0.1 - - [13/Aug/2021 13:42:31] \"GET /static/assets/webfonts/fa-brands-400.woff2 HTTP/1.1\" 304 -\n",
      "127.0.0.1 - - [13/Aug/2021 13:42:31] \"GET /static/assets/webfonts/fa-brands-400.woff2 HTTP/1.1\" 304 -\n",
      "127.0.0.1 - - [13/Aug/2021 13:42:32] \"GET /main HTTP/1.1\" 200 -\n",
      "127.0.0.1 - - [13/Aug/2021 13:42:32] \"GET /static/assets/css/main.css HTTP/1.1\" 304 -\n",
      "127.0.0.1 - - [13/Aug/2021 13:42:32] \"GET /static/assets/images/monitor.png HTTP/1.1\" 304 -\n",
      "127.0.0.1 - - [13/Aug/2021 13:42:32] \"GET /static/assets/js/jquery.min.js HTTP/1.1\" 304 -\n",
      "127.0.0.1 - - [13/Aug/2021 13:42:32] \"GET /static/assets/js/jquery.scrolly.min.js HTTP/1.1\" 304 -\n",
      "127.0.0.1 - - [13/Aug/2021 13:42:32] \"GET /static/assets/images/siren.png HTTP/1.1\" 304 -\n",
      "127.0.0.1 - - [13/Aug/2021 13:42:32] \"GET /static/assets/js/jquery.scrollex.min.js HTTP/1.1\" 304 -\n",
      "127.0.0.1 - - [13/Aug/2021 13:42:32] \"GET /static/assets/js/browser.min.js HTTP/1.1\" 304 -\n",
      "127.0.0.1 - - [13/Aug/2021 13:42:32] \"GET /static/assets/js/breakpoints.min.js HTTP/1.1\" 304 -\n",
      "127.0.0.1 - - [13/Aug/2021 13:42:32] \"GET /static/assets/js/util.js HTTP/1.1\" 304 -\n",
      "127.0.0.1 - - [13/Aug/2021 13:42:32] \"GET /static/assets/js/main.js HTTP/1.1\" 304 -\n",
      "127.0.0.1 - - [13/Aug/2021 13:42:32] \"GET /static/assets/css/fontawesome-all.min.css HTTP/1.1\" 304 -\n"
     ]
    }
   ],
   "source": [
    "from flask import Flask, render_template\n",
    "from flask import request\n",
    "app = Flask(__name__)\n",
    "\n",
    "@app.route('/')\n",
    "def index():\n",
    "    return render_template('index.html')\n",
    "\n",
    "@app.route('/main')\n",
    "def main():\n",
    "#     email = request.form['email']\n",
    "#     email = request.args.get('email')\n",
    "    return render_template('main.html')\n",
    "#     return render_template('main.html') \n",
    "#     password = request.form['password']\n",
    "#     if emaill == 'adsf':\n",
    "#         if password == '1234':\n",
    "#             return render_template('main.html')\n",
    "#         else:\n",
    "#             return '비밀번호가 틀렸습니다.'\n",
    "#     else:\n",
    "#         return '아이디가 없습니다.'\n",
    "    \n",
    "    \n",
    "@app.route('/register')\n",
    "def register():\n",
    "    return render_template('m.html')\n",
    "    \n",
    "if __name__ == '__main__':\n",
    "    app.run()"
   ]
  },
  {
   "cell_type": "code",
   "execution_count": null,
   "id": "a7824526",
   "metadata": {},
   "outputs": [],
   "source": []
  }
 ],
 "metadata": {
  "kernelspec": {
   "display_name": "Python 3",
   "language": "python",
   "name": "python3"
  },
  "language_info": {
   "codemirror_mode": {
    "name": "ipython",
    "version": 3
   },
   "file_extension": ".py",
   "mimetype": "text/x-python",
   "name": "python",
   "nbconvert_exporter": "python",
   "pygments_lexer": "ipython3",
   "version": "3.9.5"
  }
 },
 "nbformat": 4,
 "nbformat_minor": 5
}

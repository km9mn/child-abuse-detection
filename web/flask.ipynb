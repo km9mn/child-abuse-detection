{
 "cells": [
  {
   "cell_type": "code",
   "execution_count": 1,
   "id": "featured-immunology",
   "metadata": {},
   "outputs": [],
   "source": [
    "from flask import Flask, render_template"
   ]
  },
  {
   "cell_type": "code",
   "execution_count": 2,
   "id": "rough-starter",
   "metadata": {},
   "outputs": [],
   "source": [
    "app = Flask(__name__)"
   ]
  },
  {
   "cell_type": "code",
   "execution_count": null,
   "id": "reliable-cancellation",
   "metadata": {},
   "outputs": [
    {
     "name": "stdout",
     "output_type": "stream",
     "text": [
      " * Serving Flask app \"__main__\" (lazy loading)\n",
      " * Environment: production\n",
      "   WARNING: This is a development server. Do not use it in a production deployment.\n",
      "   Use a production WSGI server instead.\n",
      " * Debug mode: off\n"
     ]
    },
    {
     "name": "stderr",
     "output_type": "stream",
     "text": [
      " * Running on http://127.0.0.1:5000/ (Press CTRL+C to quit)\n",
      "127.0.0.1 - - [18/Aug/2021 20:29:18] \"\u001b[37mGET / HTTP/1.1\u001b[0m\" 200 -\n",
      "127.0.0.1 - - [18/Aug/2021 20:29:21] \"\u001b[37mGET /list HTTP/1.1\u001b[0m\" 200 -\n"
     ]
    }
   ],
   "source": [
    "import re\n",
    "import bcrypt\n",
    "import datetime\n",
    "import pandas as pd\n",
    "from flask import Flask, render_template, request, redirect, session, flash\n",
    "from model import DaycareCenter, ReportList, User, Video, Location\n",
    "from flask_sqlalchemy import SQLAlchemy\n",
    "\n",
    "app = Flask(__name__)\n",
    "app.secret_key = 'super secret key'\n",
    "app.config['SESSION_TYPE'] = 'filesystem'\n",
    "app.config[\"SQLALCHEMY_TRACK_MODIFICATIONS\"] = False # 꼭 필요하다고 합니다.\n",
    "app.config['SQLALCHEMY_DATABASE_URI'] = 'sqlite:///child_abuse_detection_database.db'\n",
    "db = SQLAlchemy(app)\n",
    "\n",
    "@app.route('/')\n",
    "def home():\n",
    "    return render_template('index.html')\n",
    "\n",
    "@app.route('/regiester', methods=['GET','POST'])\n",
    "def regiester():\n",
    "    if request.method == 'GET':\n",
    "        return render_template('register.html')\n",
    "    else:\n",
    "        \n",
    "        data = request.form\n",
    "        print(data.email, data.password)\n",
    "    return render_template('index.html')\n",
    "\n",
    "\n",
    "@app.route('/main',methods=['GET','POST'])\n",
    "def maain():\n",
    "    if request.method == 'GET':\n",
    "        return render_template('register.html')\n",
    "    else:\n",
    "        email = request.form['email'] \n",
    "        password = request.form['password']\n",
    "        print(email, password)\n",
    "        check_login(email,password)\n",
    "        if email == 'adsf' and password == '1234':\n",
    "                return render_template('main.html')\n",
    "        else:\n",
    "            flash(\"please put correct email or password\")\n",
    "            return render_template('index.html')\n",
    "\n",
    "@app.route('/register')\n",
    "def register():\n",
    "    return render_template('register.html')\n",
    "\n",
    "@app.route('/list')\n",
    "def listing():\n",
    "    return render_template('list.html')\n",
    "\n",
    "def check_email_format(email):\n",
    "    regex = '^[a-z0-9]+[\\._]?[ a-z0-9]+[@]\\w+[. ]\\w{2,3}$'\n",
    "    return True if re.search(regex,email) else False\n",
    "\n",
    "def hash_password(password):\n",
    "    password.encode('utf-8')\n",
    "    hashed_pw = bcrypt.hashpw(password.encode('utf-8'), bcrypt.gensalt())\n",
    "    return hashed_pw\n",
    "\n",
    "def check_password(password1, password2):\n",
    "    return bcrypt.checkpw(password1.encode('utf-8'), password2)\n",
    "\n",
    "def convert_datetime(unixtime):\n",
    "    \"\"\"Convert unixtime to datetime\"\"\"\n",
    "    date = datetime.datetime.fromtimestamp(unixtime).strftime('%Y-%m-%d %H:%M:%S')\n",
    "    return date # format : str\n",
    "\n",
    "def convert_unixtime(date_time):\n",
    "    \"\"\"Convert datetime to unixtime\"\"\"\n",
    "    unixtime = datetime.datetime.strptime(date_time,'%Y-%m-%d %H:%M:%S').timestamp()\n",
    "    return unixtime\n",
    "\n",
    "def check_login(email, pw):\n",
    "    a = User.query.filter_by(email=email, pw=pw).all\n",
    "    print(a)\n",
    "    for i in a:\n",
    "        print(i)\n",
    "    \n",
    "\n",
    "app.run()"
   ]
  },
  {
   "cell_type": "code",
   "execution_count": null,
   "id": "fourth-microphone",
   "metadata": {},
   "outputs": [],
   "source": []
  },
  {
   "cell_type": "code",
   "execution_count": 2,
   "id": "prime-accountability",
   "metadata": {},
   "outputs": [],
   "source": [
    "!flask-sqlacodegen \"sqlite:///child_abuse_detection_database.db\" --flask > model.py"
   ]
  },
  {
   "cell_type": "code",
   "execution_count": null,
   "id": "floppy-rouge",
   "metadata": {},
   "outputs": [],
   "source": []
  },
  {
   "cell_type": "code",
   "execution_count": null,
   "id": "turkish-healthcare",
   "metadata": {},
   "outputs": [],
   "source": []
  },
  {
   "cell_type": "code",
   "execution_count": null,
   "id": "suspected-correspondence",
   "metadata": {},
   "outputs": [],
   "source": []
  }
 ],
 "metadata": {
  "kernelspec": {
   "display_name": "Python 3",
   "language": "python",
   "name": "python3"
  },
  "language_info": {
   "codemirror_mode": {
    "name": "ipython",
    "version": 3
   },
   "file_extension": ".py",
   "mimetype": "text/x-python",
   "name": "python",
   "nbconvert_exporter": "python",
   "pygments_lexer": "ipython3",
   "version": "3.8.5"
  }
 },
 "nbformat": 4,
 "nbformat_minor": 5
}

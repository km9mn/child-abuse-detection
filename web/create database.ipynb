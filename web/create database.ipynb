{
 "cells": [
  {
   "cell_type": "code",
   "execution_count": 198,
   "id": "eleven-america",
   "metadata": {},
   "outputs": [],
   "source": [
    "import sqlalchemy\n",
    "from sqlalchemy import create_engine, Table, Column, Integer, String, ForeignKey, MetaData, DateTime, Float\n",
    "from sqlalchemy.orm.session import Session, sessionmaker, query\n",
    "from sqlalchemy.ext.declarative import declarative_base\n",
    "base = declarative_base()"
   ]
  },
  {
   "cell_type": "code",
   "execution_count": 199,
   "id": "vanilla-argentina",
   "metadata": {},
   "outputs": [],
   "source": [
    "engine = create_engine('sqlite:///child_abuse_detection_db.db',echo=True)"
   ]
  },
  {
   "cell_type": "markdown",
   "id": "ideal-boston",
   "metadata": {},
   "source": [
    "```python\n",
    "from sqlalchemy import create_engine, Column, Date, ForeignKey, Integer, String\n",
    "from sqlalchemy.orm import sessionmaker\n",
    "from sqlalchemy.ext.declarative import declarative_base\n",
    "from sqlalchemy.orm import relationship, backref\n",
    "# Setup the back-end sql engine. In this case, sqlite\n",
    "# Create and instantiate a session class using the defined engine\n",
    "engine = create_engine('sqlite:///relationships.db', echo=True)\n",
    "DBSession = sessionmaker(bind=engine)\n",
    "session = DBSession()\n",
    "# Initialize a new declarative base which will manage the `Table`\n",
    "# objects and all the behind the scenes work for the models\n",
    "Base = declarative_base()\n",
    "# Inheriting from our `Base`, define each table/model\n",
    "class Student(Base):\n",
    "    __tablename__ = 'student'\n",
    "    id = Column(Integer, primary_key=True)\n",
    "    name = Column(String, nullable=False)\n",
    "class Activity(Base):\n",
    "    __tablename__ = 'activity'\n",
    "    id = Column(Integer, primary_key=True)\n",
    "    name = Column(String, nullable=False)\n",
    "class Enrollment(Base):\n",
    "    __tablename__ = 'enrollment'\n",
    "    id_student = Column(ForeignKey(Student.id), primary_key=True)\n",
    "    id_class = Column(ForeignKey(Activity.id), primary_key=True)\n",
    "    start_date = Column(Date, nullable=False)\n",
    "    end_date = Column(Date)\n",
    "# Because the foreign key is on this table, SQLAlchemy knows\n",
    "    # these are one to many relationships with the backref being the many\n",
    "    student = relationship(Student, backref='enrollments')\n",
    "    activity = relationship(Activity, backref='enrollments')\n",
    "# Create the tables defined in the base.\n",
    "Base.metadata.create_all(engine)\n",
    "```"
   ]
  },
  {
   "cell_type": "code",
   "execution_count": 200,
   "id": "valid-numbers",
   "metadata": {},
   "outputs": [],
   "source": [
    "class Location(base):\n",
    "    __tablename__ = 'location'\n",
    "    id = Column(Integer, primary_key=True)\n",
    "    name = Column(Integer, nullable=False)"
   ]
  },
  {
   "cell_type": "code",
   "execution_count": 201,
   "id": "institutional-quick",
   "metadata": {},
   "outputs": [],
   "source": [
    "class User(base):\n",
    "    __tablename__ = 'user'\n",
    "    id = Column(Integer, primary_key=True)\n",
    "    email = Column(String, nullable=False)\n",
    "    pw = Column(String, nullable=False)\n",
    "    office_num = Column(Integer, nullable=False)\n",
    "    department = Column(String, nullable=False)\n",
    "    name = Column(String, nullable=False)\n",
    "    ph_num1 = Column(Integer, nullable=False)\n",
    "    ph_num2 = Column(Integer, nullable=False)\n",
    "    ph_num3 = Column(Integer, nullable=False)\n",
    "    loc_id = Column(ForeignKey(Location.id))"
   ]
  },
  {
   "cell_type": "code",
   "execution_count": 202,
   "id": "veterinary-passion",
   "metadata": {},
   "outputs": [],
   "source": [
    "class DaycareCenter(base):\n",
    "    __tablename__ = 'daycare_center'\n",
    "    \n",
    "    id = Column(Integer, primary_key=True)\n",
    "    name = Column(Integer, nullable=False)\n",
    "    chief_staff_name = Column(String, nullable=False)\n",
    "    address = Column(String, nullable=False)\n",
    "    ph_num1 = Column(Integer, nullable=False)\n",
    "    ph_num2 = Column(Integer, nullable=False)\n",
    "    ph_num3 = Column(Integer, nullable=False)\n",
    "    loc_id = Column(ForeignKey(Location.id))"
   ]
  },
  {
   "cell_type": "code",
   "execution_count": 203,
   "id": "accepting-karaoke",
   "metadata": {},
   "outputs": [],
   "source": [
    "class Video(base):\n",
    "    __tablename__ = 'video'\n",
    "    \n",
    "    id = Column(Integer, primary_key=True)\n",
    "    detection_time = Column(Integer, nullable=False)\n",
    "    name = Column(String, nullable=False)\n",
    "    accuracy = Column(Float, nullable=False)\n",
    "    status = Column(String, nullable=False)\n",
    "    loc_id = Column(ForeignKey(Location.id))\n",
    "    dc_id = Column(ForeignKey(DaycareCenter.id))"
   ]
  },
  {
   "cell_type": "code",
   "execution_count": 204,
   "id": "fourth-wrestling",
   "metadata": {},
   "outputs": [],
   "source": [
    "class ReportList(base):\n",
    "    __tablename__ = 'report_list'\n",
    "    \n",
    "    id = Column(Integer, primary_key=True)\n",
    "    time = Column(Integer, nullable=False) \n",
    "    police_name = Column(String, nullable=False) \n",
    "    status = Column(String, nullable=False) \n",
    "\n",
    "    loc_id = Column(ForeignKey(Location.id))\n",
    "    dc_id = Column(ForeignKey(DaycareCenter.id))\n",
    "    vid_id = Column(ForeignKey(Video.id))"
   ]
  },
  {
   "cell_type": "code",
   "execution_count": 205,
   "id": "laughing-prize",
   "metadata": {},
   "outputs": [
    {
     "name": "stdout",
     "output_type": "stream",
     "text": [
      "2021-08-17 22:54:08,662 INFO sqlalchemy.engine.base.Engine SELECT CAST('test plain returns' AS VARCHAR(60)) AS anon_1\n",
      "2021-08-17 22:54:08,664 INFO sqlalchemy.engine.base.Engine ()\n",
      "2021-08-17 22:54:08,665 INFO sqlalchemy.engine.base.Engine SELECT CAST('test unicode returns' AS VARCHAR(60)) AS anon_1\n",
      "2021-08-17 22:54:08,666 INFO sqlalchemy.engine.base.Engine ()\n",
      "2021-08-17 22:54:08,667 INFO sqlalchemy.engine.base.Engine PRAGMA main.table_info(\"location\")\n",
      "2021-08-17 22:54:08,668 INFO sqlalchemy.engine.base.Engine ()\n",
      "2021-08-17 22:54:08,670 INFO sqlalchemy.engine.base.Engine PRAGMA temp.table_info(\"location\")\n",
      "2021-08-17 22:54:08,671 INFO sqlalchemy.engine.base.Engine ()\n",
      "2021-08-17 22:54:08,672 INFO sqlalchemy.engine.base.Engine PRAGMA main.table_info(\"user\")\n",
      "2021-08-17 22:54:08,672 INFO sqlalchemy.engine.base.Engine ()\n",
      "2021-08-17 22:54:08,674 INFO sqlalchemy.engine.base.Engine PRAGMA temp.table_info(\"user\")\n",
      "2021-08-17 22:54:08,675 INFO sqlalchemy.engine.base.Engine ()\n",
      "2021-08-17 22:54:08,676 INFO sqlalchemy.engine.base.Engine PRAGMA main.table_info(\"daycare_center\")\n",
      "2021-08-17 22:54:08,677 INFO sqlalchemy.engine.base.Engine ()\n",
      "2021-08-17 22:54:08,678 INFO sqlalchemy.engine.base.Engine PRAGMA temp.table_info(\"daycare_center\")\n",
      "2021-08-17 22:54:08,679 INFO sqlalchemy.engine.base.Engine ()\n",
      "2021-08-17 22:54:08,681 INFO sqlalchemy.engine.base.Engine PRAGMA main.table_info(\"video\")\n",
      "2021-08-17 22:54:08,682 INFO sqlalchemy.engine.base.Engine ()\n",
      "2021-08-17 22:54:08,683 INFO sqlalchemy.engine.base.Engine PRAGMA temp.table_info(\"video\")\n",
      "2021-08-17 22:54:08,685 INFO sqlalchemy.engine.base.Engine ()\n",
      "2021-08-17 22:54:08,686 INFO sqlalchemy.engine.base.Engine PRAGMA main.table_info(\"report_list\")\n",
      "2021-08-17 22:54:08,688 INFO sqlalchemy.engine.base.Engine ()\n",
      "2021-08-17 22:54:08,690 INFO sqlalchemy.engine.base.Engine PRAGMA temp.table_info(\"report_list\")\n",
      "2021-08-17 22:54:08,691 INFO sqlalchemy.engine.base.Engine ()\n",
      "2021-08-17 22:54:08,693 INFO sqlalchemy.engine.base.Engine \n",
      "CREATE TABLE location (\n",
      "\tid INTEGER NOT NULL, \n",
      "\tname INTEGER NOT NULL, \n",
      "\tPRIMARY KEY (id)\n",
      ")\n",
      "\n",
      "\n",
      "2021-08-17 22:54:08,694 INFO sqlalchemy.engine.base.Engine ()\n",
      "2021-08-17 22:54:08,720 INFO sqlalchemy.engine.base.Engine COMMIT\n",
      "2021-08-17 22:54:08,721 INFO sqlalchemy.engine.base.Engine \n",
      "CREATE TABLE user (\n",
      "\tid INTEGER NOT NULL, \n",
      "\temail VARCHAR NOT NULL, \n",
      "\tpw VARCHAR NOT NULL, \n",
      "\toffice_num INTEGER NOT NULL, \n",
      "\tdepartment VARCHAR NOT NULL, \n",
      "\tname VARCHAR NOT NULL, \n",
      "\tph_num1 INTEGER NOT NULL, \n",
      "\tph_num2 INTEGER NOT NULL, \n",
      "\tph_num3 INTEGER NOT NULL, \n",
      "\tloc_id INTEGER, \n",
      "\tPRIMARY KEY (id), \n",
      "\tFOREIGN KEY(loc_id) REFERENCES location (id)\n",
      ")\n",
      "\n",
      "\n",
      "2021-08-17 22:54:08,722 INFO sqlalchemy.engine.base.Engine ()\n",
      "2021-08-17 22:54:08,749 INFO sqlalchemy.engine.base.Engine COMMIT\n",
      "2021-08-17 22:54:08,751 INFO sqlalchemy.engine.base.Engine \n",
      "CREATE TABLE daycare_center (\n",
      "\tid INTEGER NOT NULL, \n",
      "\tname INTEGER NOT NULL, \n",
      "\tchief_staff_name VARCHAR NOT NULL, \n",
      "\taddress VARCHAR NOT NULL, \n",
      "\tph_num1 INTEGER NOT NULL, \n",
      "\tph_num2 INTEGER NOT NULL, \n",
      "\tph_num3 INTEGER NOT NULL, \n",
      "\tloc_id INTEGER, \n",
      "\tPRIMARY KEY (id), \n",
      "\tFOREIGN KEY(loc_id) REFERENCES location (id)\n",
      ")\n",
      "\n",
      "\n",
      "2021-08-17 22:54:08,752 INFO sqlalchemy.engine.base.Engine ()\n",
      "2021-08-17 22:54:08,775 INFO sqlalchemy.engine.base.Engine COMMIT\n",
      "2021-08-17 22:54:08,777 INFO sqlalchemy.engine.base.Engine \n",
      "CREATE TABLE video (\n",
      "\tid INTEGER NOT NULL, \n",
      "\tdetection_time INTEGER NOT NULL, \n",
      "\tname VARCHAR NOT NULL, \n",
      "\taccuracy FLOAT NOT NULL, \n",
      "\tstatus VARCHAR NOT NULL, \n",
      "\tloc_id INTEGER, \n",
      "\tdc_id INTEGER, \n",
      "\tPRIMARY KEY (id), \n",
      "\tFOREIGN KEY(loc_id) REFERENCES location (id), \n",
      "\tFOREIGN KEY(dc_id) REFERENCES daycare_center (id)\n",
      ")\n",
      "\n",
      "\n",
      "2021-08-17 22:54:08,778 INFO sqlalchemy.engine.base.Engine ()\n",
      "2021-08-17 22:54:08,798 INFO sqlalchemy.engine.base.Engine COMMIT\n",
      "2021-08-17 22:54:08,799 INFO sqlalchemy.engine.base.Engine \n",
      "CREATE TABLE report_list (\n",
      "\tid INTEGER NOT NULL, \n",
      "\ttime INTEGER NOT NULL, \n",
      "\tpolice_name VARCHAR NOT NULL, \n",
      "\tstatus VARCHAR NOT NULL, \n",
      "\tloc_id INTEGER, \n",
      "\tdc_id INTEGER, \n",
      "\tvid_id INTEGER, \n",
      "\tPRIMARY KEY (id), \n",
      "\tFOREIGN KEY(loc_id) REFERENCES location (id), \n",
      "\tFOREIGN KEY(dc_id) REFERENCES daycare_center (id), \n",
      "\tFOREIGN KEY(vid_id) REFERENCES video (id)\n",
      ")\n",
      "\n",
      "\n",
      "2021-08-17 22:54:08,801 INFO sqlalchemy.engine.base.Engine ()\n",
      "2021-08-17 22:54:08,828 INFO sqlalchemy.engine.base.Engine COMMIT\n"
     ]
    }
   ],
   "source": [
    "base.metadata.create_all(engine)"
   ]
  },
  {
   "cell_type": "markdown",
   "id": "regular-samuel",
   "metadata": {},
   "source": [
    "# Creating Dummy Data"
   ]
  },
  {
   "cell_type": "code",
   "execution_count": 206,
   "id": "prerequisite-graphics",
   "metadata": {},
   "outputs": [],
   "source": [
    "import numpy as np\n",
    "import datetime\n",
    "import time\n",
    "import string"
   ]
  },
  {
   "cell_type": "code",
   "execution_count": 207,
   "id": "incredible-score",
   "metadata": {},
   "outputs": [],
   "source": [
    "sess = sessionmaker()\n",
    "session = sess(bind=engine)"
   ]
  },
  {
   "cell_type": "code",
   "execution_count": 208,
   "id": "undefined-confidentiality",
   "metadata": {},
   "outputs": [],
   "source": [
    "def create_random_phone_num():\n",
    "    num1 = 10\n",
    "    num2 = np.random.randint(0,10000)\n",
    "    num3 = np.random.randint(0,10000)\n",
    "    return num1, num2, num3"
   ]
  },
  {
   "cell_type": "code",
   "execution_count": 209,
   "id": "legendary-irish",
   "metadata": {},
   "outputs": [],
   "source": [
    "def create_random_name():\n",
    "    lastname = list('김이박최정강조윤장임한오서신권황안송류전')\n",
    "    firstname = ['정웅','영철','영식','영철','성진','정운','준혁','준서',\n",
    "                 '영길','정수','성수','정호','지훈','동현','준호','민재',\n",
    "                 '영일','종수','성호','영진','상훈','성호','준영','민석',\n",
    "                 '도현','건우','예준','정수','정식','상철','병철','성민',\n",
    "                 '민수','지훈','예준','건우','정남','정호','종수','진호',\n",
    "                 '영진','준호','준호','준혁','준영','현준','광수','영환',\n",
    "                 '영자','순자','미경','미영','지영','지혜','유진','서연',\n",
    "                 '정자','미숙','은정','지은','민지','민서','정순','경회',\n",
    "                 '수빈','서현','영숙','경숙','은영','현정','혜진','지원',\n",
    "                 '경자','은경','은영','지영','지은','민지','예은','지민']\n",
    "    last = np.random.choice(lastname, 1)\n",
    "    first = np.random.choice(firstname,1)\n",
    "    return last[0] + first[0]"
   ]
  },
  {
   "cell_type": "code",
   "execution_count": 210,
   "id": "french-presentation",
   "metadata": {},
   "outputs": [],
   "source": [
    "def create_random_time():\n",
    "    return np.random.randint(0,164000000,10) * 10"
   ]
  },
  {
   "cell_type": "code",
   "execution_count": 211,
   "id": "qualified-tournament",
   "metadata": {},
   "outputs": [],
   "source": [
    "def create_random_email():\n",
    "    alpha = list(string.ascii_lowercase)\n",
    "    number = list('0123456789')\n",
    "    domain = ['gmail.com','naver.com','google.com','daum.net','aspo.dor','foke.ok','github.io','please.work','korea.ac.kr','kakao.com']\n",
    "    n = np.random.randint(1,7)\n",
    "    k = 10-n\n",
    "    return ''.join(np.random.choice(alpha,n)) + ''.join(np.random.choice(number,k)) + '@'+''.join(np.random.choice(domain,1))"
   ]
  },
  {
   "cell_type": "code",
   "execution_count": 212,
   "id": "rural-picking",
   "metadata": {},
   "outputs": [],
   "source": [
    "def create_random_password():\n",
    "    alpha = list(string.ascii_lowercase)\n",
    "    number = list('0123456789')\n",
    "    data = alpha + number\n",
    "    return ''.join(np.random.choice(data,10))"
   ]
  },
  {
   "cell_type": "code",
   "execution_count": 213,
   "id": "sophisticated-dominican",
   "metadata": {},
   "outputs": [],
   "source": [
    "def create_random_office_num():\n",
    "    number = list('123456789')\n",
    "    return ''.join(np.random.choice(number,8))"
   ]
  },
  {
   "cell_type": "code",
   "execution_count": 214,
   "id": "coordinated-monaco",
   "metadata": {},
   "outputs": [],
   "source": [
    "def create_random_department():\n",
    "    dep = '''균형발전본부, 균형발전기획관, 균형발전정책과, 도시활성화과, 주거재생과, 주거환경과, 도심권사업과, 한옥정책과, 안전총괄실, 안전총괄관, 안전총괄과, 상황대응과, 시설안전과, 도로계획과, 광화문광장추진단, 감염병연구센터, 여성가족정책실, 여성권익담당관, 여성정책담당관, 보육담당관, 외국인다문화담당관, 가족담당관, 아이돌봄담당관, 온마을돌봄추진단, 공공개발기획단, 동물보호과, 미래청년기획단, 청년정책반, 청년사업반, 국제교류담당관, 인생이모작담당관, 행정국, 총무과, 인사과, 자치행정과, 인력개발과, 정보공개정책과, 법률자문검사, 국회협력관, 시장단, 코로나19대응지원과, 1인가구특별대책추진단, 기획조정실, 정책기획관, 기획담당관, 조직담당관, 평가협업담당관, 법무담당관, 대외협력담당관, 재정기획관, 예산담당관, 재정담당관, 공기업담당관, 법률지원담당관, 식품정책과, 복지정책실, 복지기획관, 복지정책과, 지역돌봄복지과, 어르신복지과, 자활지원과, 시민건강국, 보건의료정책과, 건강증진과, 감염병관리과, 비상기획관, 민방위담당관, 도로관리과, 도로시설과, 건설혁신과, 동남권사업과, 동북권사업과, 서부권사업과, 교량안전과, 대변인, 언론담당관, 인권담당관, 시민소통기획관, 시민소통담당관, 시민봉사담당관, 뉴미디어담당관, 도시브랜드담당관, 장애인자립지원과, 장애인복지정책과, 시민봉사담당관(열린민원실)'''\n",
    "    department = re.sub(' ','',dep).split(',')\n",
    "    return np.random.choice(department,1)[0]"
   ]
  },
  {
   "cell_type": "code",
   "execution_count": 215,
   "id": "described-flour",
   "metadata": {},
   "outputs": [],
   "source": [
    "def convert_datetime(unixtime):\n",
    "    \"\"\"Convert unixtime to datetime\"\"\"\n",
    "    date = datetime.datetime.fromtimestamp(unixtime).strftime('%Y-%m-%d %H:%M:%S')\n",
    "    return date # format : str\n",
    "\n",
    "def convert_unixtime(date_time):\n",
    "    \"\"\"Convert datetime to unixtime\"\"\"\n",
    "    unixtime = datetime.datetime.strptime(date_time,'%Y-%m-%d %H:%M:%S').timestamp()\n",
    "    return unixtime"
   ]
  },
  {
   "cell_type": "code",
   "execution_count": 216,
   "id": "affiliated-rally",
   "metadata": {},
   "outputs": [],
   "source": [
    "for i in range(10):\n",
    "    p_num1,p_num2, p_num3 = create_random_phone_num()\n",
    "    user_1 = User(email=create_random_email(), \n",
    "                  pw=create_random_password(), \n",
    "                  office_num=create_random_office_num(),\n",
    "                  department=create_random_department(),\n",
    "                  name=create_random_name(),\n",
    "                  ph_num1=p_num1,\n",
    "                  ph_num2=p_num2,\n",
    "                  ph_num3=p_num3, \n",
    "                  loc_id=i+2)\n",
    "    session.add(user_1)\n"
   ]
  },
  {
   "cell_type": "code",
   "execution_count": 217,
   "id": "alike-landing",
   "metadata": {},
   "outputs": [
    {
     "name": "stdout",
     "output_type": "stream",
     "text": [
      "2021-08-17 22:54:13,707 INFO sqlalchemy.engine.base.Engine BEGIN (implicit)\n",
      "2021-08-17 22:54:13,710 INFO sqlalchemy.engine.base.Engine INSERT INTO user (email, pw, office_num, department, name, ph_num1, ph_num2, ph_num3, loc_id) VALUES (?, ?, ?, ?, ?, ?, ?, ?, ?)\n",
      "2021-08-17 22:54:13,711 INFO sqlalchemy.engine.base.Engine ('ey00057189@google.com', '640uocanhy', '46252866', '감염병연구센터', '류준혁', 10, 8138, 5281, 2)\n",
      "2021-08-17 22:54:13,715 INFO sqlalchemy.engine.base.Engine INSERT INTO user (email, pw, office_num, department, name, ph_num1, ph_num2, ph_num3, loc_id) VALUES (?, ?, ?, ?, ?, ?, ?, ?, ?)\n",
      "2021-08-17 22:54:13,716 INFO sqlalchemy.engine.base.Engine ('c912956357@kakao.com', 'wrh7hrewdt', '99488697', '공공개발기획단', '장지혜', 10, 5010, 5683, 3)\n",
      "2021-08-17 22:54:13,717 INFO sqlalchemy.engine.base.Engine INSERT INTO user (email, pw, office_num, department, name, ph_num1, ph_num2, ph_num3, loc_id) VALUES (?, ?, ?, ?, ?, ?, ?, ?, ?)\n",
      "2021-08-17 22:54:13,718 INFO sqlalchemy.engine.base.Engine ('kmvc038944@foke.ok', 'toxnsljowf', '99339438', '언론담당관', '류민서', 10, 2551, 7169, 4)\n",
      "2021-08-17 22:54:13,719 INFO sqlalchemy.engine.base.Engine INSERT INTO user (email, pw, office_num, department, name, ph_num1, ph_num2, ph_num3, loc_id) VALUES (?, ?, ?, ?, ?, ?, ?, ?, ?)\n",
      "2021-08-17 22:54:13,720 INFO sqlalchemy.engine.base.Engine ('hwwvzh2815@foke.ok', '2mdmwwyggm', '68223516', '인력개발과', '전정호', 10, 9707, 743, 5)\n",
      "2021-08-17 22:54:13,721 INFO sqlalchemy.engine.base.Engine INSERT INTO user (email, pw, office_num, department, name, ph_num1, ph_num2, ph_num3, loc_id) VALUES (?, ?, ?, ?, ?, ?, ?, ?, ?)\n",
      "2021-08-17 22:54:13,722 INFO sqlalchemy.engine.base.Engine ('dn68946661@github.io', '4vu41260y8', '41347772', '공기업담당관', '한은경', 10, 1359, 2481, 6)\n",
      "2021-08-17 22:54:13,724 INFO sqlalchemy.engine.base.Engine INSERT INTO user (email, pw, office_num, department, name, ph_num1, ph_num2, ph_num3, loc_id) VALUES (?, ?, ?, ?, ?, ?, ?, ?, ?)\n",
      "2021-08-17 22:54:13,725 INFO sqlalchemy.engine.base.Engine ('kj07787092@korea.ac.kr', 'ycf2nh535v', '59422461', '뉴미디어담당관', '안예준', 10, 6598, 8186, 7)\n",
      "2021-08-17 22:54:13,726 INFO sqlalchemy.engine.base.Engine INSERT INTO user (email, pw, office_num, department, name, ph_num1, ph_num2, ph_num3, loc_id) VALUES (?, ?, ?, ?, ?, ?, ?, ?, ?)\n",
      "2021-08-17 22:54:13,727 INFO sqlalchemy.engine.base.Engine ('bdbjq50386@daum.net', 'j6zqyihn13', '22315895', '시민봉사담당관', '황영철', 10, 5483, 6041, 8)\n",
      "2021-08-17 22:54:13,728 INFO sqlalchemy.engine.base.Engine INSERT INTO user (email, pw, office_num, department, name, ph_num1, ph_num2, ph_num3, loc_id) VALUES (?, ?, ?, ?, ?, ?, ?, ?, ?)\n",
      "2021-08-17 22:54:13,729 INFO sqlalchemy.engine.base.Engine ('w476676895@foke.ok', '31i88rnuak', '84439325', '안전총괄실', '송정운', 10, 6424, 1357, 9)\n",
      "2021-08-17 22:54:13,733 INFO sqlalchemy.engine.base.Engine INSERT INTO user (email, pw, office_num, department, name, ph_num1, ph_num2, ph_num3, loc_id) VALUES (?, ?, ?, ?, ?, ?, ?, ?, ?)\n",
      "2021-08-17 22:54:13,734 INFO sqlalchemy.engine.base.Engine ('ow49644088@gmail.com', '1sjufa8j86', '69155994', '기획조정실', '권예은', 10, 8311, 6091, 10)\n",
      "2021-08-17 22:54:13,736 INFO sqlalchemy.engine.base.Engine INSERT INTO user (email, pw, office_num, department, name, ph_num1, ph_num2, ph_num3, loc_id) VALUES (?, ?, ?, ?, ?, ?, ?, ?, ?)\n",
      "2021-08-17 22:54:13,737 INFO sqlalchemy.engine.base.Engine ('ekxqq54334@naver.com', 'vb09yw8ynq', '97159788', '법무담당관', '오유진', 10, 3372, 4503, 11)\n",
      "2021-08-17 22:54:13,739 INFO sqlalchemy.engine.base.Engine COMMIT\n"
     ]
    }
   ],
   "source": [
    "session.add(user_1)\n",
    "session.commit()"
   ]
  },
  {
   "cell_type": "code",
   "execution_count": 218,
   "id": "auburn-auditor",
   "metadata": {},
   "outputs": [],
   "source": [
    "location_list = '''강남구,강동구,강북구,강서구,관악구,광진구,구로구,금천구,노원구,도봉구,동대문구,동작구,마포구,서대문구,서초구,성동구,성북구,송파구,양천구,영등포구,용산구,은평구,종로구,중구,중랑구'''.split(',')"
   ]
  },
  {
   "cell_type": "code",
   "execution_count": 219,
   "id": "patent-gabriel",
   "metadata": {},
   "outputs": [
    {
     "name": "stdout",
     "output_type": "stream",
     "text": [
      "2021-08-17 22:54:17,977 INFO sqlalchemy.engine.base.Engine BEGIN (implicit)\n",
      "2021-08-17 22:54:17,979 INFO sqlalchemy.engine.base.Engine INSERT INTO location (id, name) VALUES (?, ?)\n",
      "2021-08-17 22:54:17,980 INFO sqlalchemy.engine.base.Engine ((1, '서울특별시 강남구'), (2, '서울특별시 강동구'), (3, '서울특별시 강북구'), (4, '서울특별시 강서구'), (5, '서울특별시 관악구'), (6, '서울특별시 광진구'), (7, '서울특별시 구로구'), (8, '서울특별시 금천구')  ... displaying 10 of 25 total bound parameter sets ...  (24, '서울특별시 중구'), (25, '서울특별시 중랑구'))\n",
      "2021-08-17 22:54:17,990 INFO sqlalchemy.engine.base.Engine COMMIT\n"
     ]
    }
   ],
   "source": [
    "for idx, loc in enumerate(location_list):\n",
    "    location = Location(id=idx+1, name='서울특별시 '+loc)\n",
    "    session.add(location)\n",
    "session.commit()"
   ]
  },
  {
   "cell_type": "code",
   "execution_count": 220,
   "id": "located-arrest",
   "metadata": {},
   "outputs": [
    {
     "name": "stdout",
     "output_type": "stream",
     "text": [
      "1 강남구\n",
      "2 강동구\n",
      "3 강북구\n",
      "4 강서구\n",
      "5 관악구\n",
      "6 광진구\n",
      "7 구로구\n",
      "8 금천구\n",
      "9 노원구\n",
      "10 도봉구\n",
      "11 동대문구\n",
      "12 동작구\n",
      "13 마포구\n",
      "14 서대문구\n",
      "15 서초구\n",
      "16 성동구\n",
      "17 성북구\n",
      "18 송파구\n",
      "19 양천구\n",
      "20 영등포구\n",
      "21 용산구\n",
      "22 은평구\n",
      "23 종로구\n",
      "24 중구\n",
      "25 중랑구\n"
     ]
    }
   ],
   "source": [
    "for idx, loc in enumerate(location_list):\n",
    "    print(idx+1, loc )"
   ]
  },
  {
   "cell_type": "code",
   "execution_count": null,
   "id": "weird-toddler",
   "metadata": {},
   "outputs": [],
   "source": [
    "for i in range(10):\n",
    "    dcc = DaycareCenter(\n",
    "        p_num1,p_num2, p_num3 = create_random_phone_num()\n",
    "        id=,\n",
    "        name=,\n",
    "        chief_staff_name=,\n",
    "        address=,\n",
    "        ph_num1=2,\n",
    "        ph_num2=p_num2,\n",
    "        ph_num3=p_num3, \n",
    "        loc_id= \n",
    "    )\n",
    "    session.add(dcc)\n",
    "session.commit()"
   ]
  },
  {
   "cell_type": "code",
   "execution_count": null,
   "id": "waiting-alaska",
   "metadata": {},
   "outputs": [],
   "source": []
  }
 ],
 "metadata": {
  "kernelspec": {
   "display_name": "Python 3",
   "language": "python",
   "name": "python3"
  },
  "language_info": {
   "codemirror_mode": {
    "name": "ipython",
    "version": 3
   },
   "file_extension": ".py",
   "mimetype": "text/x-python",
   "name": "python",
   "nbconvert_exporter": "python",
   "pygments_lexer": "ipython3",
   "version": "3.8.5"
  }
 },
 "nbformat": 4,
 "nbformat_minor": 5
}
